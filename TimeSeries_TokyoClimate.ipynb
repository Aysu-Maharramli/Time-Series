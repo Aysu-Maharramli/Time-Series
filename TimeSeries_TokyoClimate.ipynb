{
  "nbformat": 4,
  "nbformat_minor": 0,
  "metadata": {
    "colab": {
      "name": "TimeSeries_TokyoClimate.ipynb",
      "provenance": [],
      "collapsed_sections": []
    },
    "kernelspec": {
      "name": "python3",
      "display_name": "Python 3"
    },
    "language_info": {
      "name": "python"
    },
    "accelerator": "GPU"
  },
  "cells": [
    {
      "cell_type": "code",
      "source": [
        "import numpy as np\n",
        "import csv\n",
        "import matplotlib.pyplot as plt\n",
        "%matplotlib inline\n",
        "\n",
        "# load from csv\n",
        "series = []\n",
        "with open(\"/content/tokyo_max_temp.csv\", \"r\") as f:\n",
        "    reader = csv.reader(f)\n",
        "    for row in reader:\n",
        "        series.append(row)\n",
        "series = list(map(float, series[0]))\n",
        "print(\"Total data points: {}\".format(len(series)))"
      ],
      "metadata": {
        "colab": {
          "base_uri": "https://localhost:8080/"
        },
        "id": "VVbaRL2kWCyt",
        "outputId": "7e13f785-1ca7-47ce-9f8f-7aa3562f08cd"
      },
      "execution_count": null,
      "outputs": [
        {
          "output_type": "stream",
          "name": "stdout",
          "text": [
            "Total data points: 1728\n"
          ]
        }
      ]
    },
    {
      "cell_type": "code",
      "source": [
        "# take 80% of data as train set\n",
        "train_size = 0.8\n",
        "split_time = int(train_size * len(series))\n",
        "# series data\n",
        "series_train =  series[:split_time]\n",
        "series_test = series[split_time:]\n",
        "print(\"Number of data points for training: {}, for testing: {}\".format(len(series_train), len(series_test)))\n",
        "# time step data\n",
        "time = np.arange(0, len(series))\n",
        "time_train = time[:split_time]\n",
        "time_test = time[split_time:]\n",
        "\n",
        "# variables for window dataset\n",
        "window_size = 24\n",
        "batch_size = 64\n",
        "shuffle_buffer_size = 1000\n",
        "\n",
        "#from tensorflow.python.data import Dataset\n",
        "import tensorflow as tf\n",
        "#from tensorflow.data import Dataset\n",
        "from tensorflow.python.data import Dataset\n",
        "\n",
        "def window_dataset(series, window_size, batch_size, shuffle_buffer_size):\n",
        "    '''\n",
        "    windowing the time series data to be a windowed dataset\n",
        "    \n",
        "        Parameters:\n",
        "            series: time series data \n",
        "            window_size: desired number of data points as inputs of the network\n",
        "            batch_size: batching the input of the network\n",
        "            shuffle_buffer_size: buffer size for shuffle method\n",
        "            \n",
        "        Returns:\n",
        "            windowed dataset\n",
        "    '''\n",
        "    series = tf.expand_dims(series, axis=-1)\n",
        "    ds = Dataset.from_tensor_slices(series)\n",
        "    ds = ds.window(window_size + 1, shift=1, drop_remainder=True)\n",
        "    ds = ds.flat_map(lambda x: x.batch(window_size + 1))\n",
        "    ds = ds.map(lambda x: (x[:-1], x[-1:]))\n",
        "    ds = ds.shuffle(shuffle_buffer_size)\n",
        "    return ds.batch(batch_size).prefetch(1)\n",
        "\n",
        "def forecast(model, series, window_size):\n",
        "    '''\n",
        "    forecasting the time series data\n",
        "    \n",
        "        Parameters:\n",
        "            model: trained network model\n",
        "            series: time series data to be forecasted\n",
        "            window_size: desired number of data points as inputs of the network\n",
        "            \n",
        "        Returns:\n",
        "            forecast: forecasted time series data\n",
        "    '''\n",
        "    series = tf.expand_dims(series, axis=-1)\n",
        "    ds = Dataset.from_tensor_slices(series)\n",
        "    ds = ds.window(window_size, shift=1, drop_remainder=True)\n",
        "    ds = ds.flat_map(lambda x: x.batch(window_size))\n",
        "    ds = ds.batch(batch_size).prefetch(1)\n",
        "    forecast = model.predict(ds)\n",
        "    return forecast\n",
        "\n",
        "\n",
        "train_set = window_dataset(series_train, window_size, batch_size, shuffle_buffer_size)\n",
        "test_set = window_dataset(series_test, window_size, batch_size, shuffle_buffer_size)"
      ],
      "metadata": {
        "colab": {
          "base_uri": "https://localhost:8080/"
        },
        "id": "ZPsE1P_1V-RE",
        "outputId": "378d3c50-5be6-4f03-d6bb-516d4df863d1"
      },
      "execution_count": null,
      "outputs": [
        {
          "output_type": "stream",
          "name": "stdout",
          "text": [
            "Number of data points for training: 1382, for testing: 346\n"
          ]
        }
      ]
    },
    {
      "cell_type": "code",
      "source": [
        "model = tf.keras.models.Sequential()\n",
        "\n",
        "model.add(tf.keras.layers.Input(shape=window_size))\n",
        "model.add(tf.keras.layers.Lambda(lambda x: tf.expand_dims(x, axis=1)))\n",
        "model.add(tf.keras.layers.SimpleRNN(64, kernel_regularizer=tf.keras.regularizers.L1(0.01),activity_regularizer=tf.keras.regularizers.L2(0.01)))\n",
        "model.add(tf.keras.layers.Dropout(0.2))\n",
        "model.add(tf.keras.layers.Dense(128, activation='elu'))\n",
        "model.add(tf.keras.layers.Dense(1))\n",
        "\n",
        "model.compile(loss=tf.keras.losses.Huber(), optimizer=tf.keras.optimizers.SGD(learning_rate=1e-3, momentum=0.9), metrics=[\"mae\"])\n",
        "callbacks = tf.keras.callbacks.EarlyStopping(monitor='val_loss',patience=3)\n",
        "\n",
        "hist = model.fit(train_set, epochs=100, validation_data=test_set, callbacks=[callbacks])"
      ],
      "metadata": {
        "colab": {
          "base_uri": "https://localhost:8080/"
        },
        "id": "het6iFDFjLBK",
        "outputId": "3d9bd9e9-77d0-4216-c036-7136aa2afdd2"
      },
      "execution_count": null,
      "outputs": [
        {
          "output_type": "stream",
          "name": "stdout",
          "text": [
            "Epoch 1/100\n",
            "22/22 [==============================] - 92s 30ms/step - loss: 16.4372 - mae: 14.3213 - val_loss: 9.0760 - val_mae: 6.9527\n",
            "Epoch 2/100\n",
            "22/22 [==============================] - 1s 15ms/step - loss: 7.8862 - mae: 5.7749 - val_loss: 6.4061 - val_mae: 4.3165\n",
            "Epoch 3/100\n",
            "22/22 [==============================] - 1s 15ms/step - loss: 5.3841 - mae: 3.2836 - val_loss: 3.9480 - val_mae: 1.8286\n",
            "Epoch 4/100\n",
            "22/22 [==============================] - 1s 15ms/step - loss: 4.3596 - mae: 2.2708 - val_loss: 3.5274 - val_mae: 1.4305\n",
            "Epoch 5/100\n",
            "22/22 [==============================] - 1s 16ms/step - loss: 4.1696 - mae: 2.1082 - val_loss: 3.4674 - val_mae: 1.3987\n",
            "Epoch 6/100\n",
            "22/22 [==============================] - 1s 15ms/step - loss: 4.2485 - mae: 2.2205 - val_loss: 3.7916 - val_mae: 1.7777\n",
            "Epoch 7/100\n",
            "22/22 [==============================] - 1s 16ms/step - loss: 4.0972 - mae: 2.0975 - val_loss: 3.4064 - val_mae: 1.3925\n",
            "Epoch 8/100\n",
            "22/22 [==============================] - 1s 15ms/step - loss: 3.9511 - mae: 1.9751 - val_loss: 3.7376 - val_mae: 1.7738\n",
            "Epoch 9/100\n",
            "22/22 [==============================] - 1s 15ms/step - loss: 4.0347 - mae: 2.0904 - val_loss: 3.3366 - val_mae: 1.3864\n",
            "Epoch 10/100\n",
            "22/22 [==============================] - 1s 16ms/step - loss: 3.9766 - mae: 2.0610 - val_loss: 3.5817 - val_mae: 1.6705\n",
            "Epoch 11/100\n",
            "22/22 [==============================] - 1s 15ms/step - loss: 3.8167 - mae: 1.9232 - val_loss: 3.7697 - val_mae: 1.9054\n",
            "Epoch 12/100\n",
            "22/22 [==============================] - 1s 16ms/step - loss: 3.8251 - mae: 1.9678 - val_loss: 3.0897 - val_mae: 1.2161\n",
            "Epoch 13/100\n",
            "22/22 [==============================] - 1s 15ms/step - loss: 3.7113 - mae: 1.8757 - val_loss: 3.5199 - val_mae: 1.7029\n",
            "Epoch 14/100\n",
            "22/22 [==============================] - 1s 15ms/step - loss: 3.7012 - mae: 1.8965 - val_loss: 3.7982 - val_mae: 2.0313\n",
            "Epoch 15/100\n",
            "22/22 [==============================] - 1s 16ms/step - loss: 3.6366 - mae: 1.8627 - val_loss: 3.3921 - val_mae: 1.6320\n"
          ]
        }
      ]
    },
    {
      "cell_type": "code",
      "source": [
        "model.save('TokyoClimate.h5')"
      ],
      "metadata": {
        "id": "k_Wjn2YbsraZ"
      },
      "execution_count": null,
      "outputs": []
    }
  ]
}