{
  "nbformat": 4,
  "nbformat_minor": 0,
  "metadata": {
    "colab": {
      "name": "TimeSeries_Sales.ipynb",
      "provenance": []
    },
    "kernelspec": {
      "name": "python3",
      "display_name": "Python 3"
    },
    "language_info": {
      "name": "python"
    },
    "accelerator": "GPU"
  },
  "cells": [
    {
      "cell_type": "code",
      "execution_count": null,
      "metadata": {
        "id": "7CX6wLShxZyJ"
      },
      "outputs": [],
      "source": [
        "import pandas as pd\n",
        "import matplotlib.pyplot as plt\n",
        "import numpy as np\n",
        "import tensorflow as tf"
      ]
    },
    {
      "cell_type": "code",
      "source": [
        "df = pd.read_csv(\"/content/sales.csv\", \n",
        "                 parse_dates=[\"Month\"], \n",
        "                 index_col=[\"Month\"]) # parse the date column (tell pandas column 1 is a datetime)\n",
        "df.head()"
      ],
      "metadata": {
        "colab": {
          "base_uri": "https://localhost:8080/",
          "height": 238
        },
        "id": "KBTlzyBPyB8p",
        "outputId": "581e1674-7408-44c6-9fe8-7e0d8e131b3a"
      },
      "execution_count": null,
      "outputs": [
        {
          "output_type": "execute_result",
          "data": {
            "text/plain": [
              "            Sales\n",
              "Month            \n",
              "2015-01-01  266.0\n",
              "2015-02-01  145.9\n",
              "2015-03-01  183.1\n",
              "2015-04-01  119.3\n",
              "2015-05-01  180.3"
            ],
            "text/html": [
              "\n",
              "  <div id=\"df-1c3fa6fb-04b7-4b90-ac01-59045b668fca\">\n",
              "    <div class=\"colab-df-container\">\n",
              "      <div>\n",
              "<style scoped>\n",
              "    .dataframe tbody tr th:only-of-type {\n",
              "        vertical-align: middle;\n",
              "    }\n",
              "\n",
              "    .dataframe tbody tr th {\n",
              "        vertical-align: top;\n",
              "    }\n",
              "\n",
              "    .dataframe thead th {\n",
              "        text-align: right;\n",
              "    }\n",
              "</style>\n",
              "<table border=\"1\" class=\"dataframe\">\n",
              "  <thead>\n",
              "    <tr style=\"text-align: right;\">\n",
              "      <th></th>\n",
              "      <th>Sales</th>\n",
              "    </tr>\n",
              "    <tr>\n",
              "      <th>Month</th>\n",
              "      <th></th>\n",
              "    </tr>\n",
              "  </thead>\n",
              "  <tbody>\n",
              "    <tr>\n",
              "      <th>2015-01-01</th>\n",
              "      <td>266.0</td>\n",
              "    </tr>\n",
              "    <tr>\n",
              "      <th>2015-02-01</th>\n",
              "      <td>145.9</td>\n",
              "    </tr>\n",
              "    <tr>\n",
              "      <th>2015-03-01</th>\n",
              "      <td>183.1</td>\n",
              "    </tr>\n",
              "    <tr>\n",
              "      <th>2015-04-01</th>\n",
              "      <td>119.3</td>\n",
              "    </tr>\n",
              "    <tr>\n",
              "      <th>2015-05-01</th>\n",
              "      <td>180.3</td>\n",
              "    </tr>\n",
              "  </tbody>\n",
              "</table>\n",
              "</div>\n",
              "      <button class=\"colab-df-convert\" onclick=\"convertToInteractive('df-1c3fa6fb-04b7-4b90-ac01-59045b668fca')\"\n",
              "              title=\"Convert this dataframe to an interactive table.\"\n",
              "              style=\"display:none;\">\n",
              "        \n",
              "  <svg xmlns=\"http://www.w3.org/2000/svg\" height=\"24px\"viewBox=\"0 0 24 24\"\n",
              "       width=\"24px\">\n",
              "    <path d=\"M0 0h24v24H0V0z\" fill=\"none\"/>\n",
              "    <path d=\"M18.56 5.44l.94 2.06.94-2.06 2.06-.94-2.06-.94-.94-2.06-.94 2.06-2.06.94zm-11 1L8.5 8.5l.94-2.06 2.06-.94-2.06-.94L8.5 2.5l-.94 2.06-2.06.94zm10 10l.94 2.06.94-2.06 2.06-.94-2.06-.94-.94-2.06-.94 2.06-2.06.94z\"/><path d=\"M17.41 7.96l-1.37-1.37c-.4-.4-.92-.59-1.43-.59-.52 0-1.04.2-1.43.59L10.3 9.45l-7.72 7.72c-.78.78-.78 2.05 0 2.83L4 21.41c.39.39.9.59 1.41.59.51 0 1.02-.2 1.41-.59l7.78-7.78 2.81-2.81c.8-.78.8-2.07 0-2.86zM5.41 20L4 18.59l7.72-7.72 1.47 1.35L5.41 20z\"/>\n",
              "  </svg>\n",
              "      </button>\n",
              "      \n",
              "  <style>\n",
              "    .colab-df-container {\n",
              "      display:flex;\n",
              "      flex-wrap:wrap;\n",
              "      gap: 12px;\n",
              "    }\n",
              "\n",
              "    .colab-df-convert {\n",
              "      background-color: #E8F0FE;\n",
              "      border: none;\n",
              "      border-radius: 50%;\n",
              "      cursor: pointer;\n",
              "      display: none;\n",
              "      fill: #1967D2;\n",
              "      height: 32px;\n",
              "      padding: 0 0 0 0;\n",
              "      width: 32px;\n",
              "    }\n",
              "\n",
              "    .colab-df-convert:hover {\n",
              "      background-color: #E2EBFA;\n",
              "      box-shadow: 0px 1px 2px rgba(60, 64, 67, 0.3), 0px 1px 3px 1px rgba(60, 64, 67, 0.15);\n",
              "      fill: #174EA6;\n",
              "    }\n",
              "\n",
              "    [theme=dark] .colab-df-convert {\n",
              "      background-color: #3B4455;\n",
              "      fill: #D2E3FC;\n",
              "    }\n",
              "\n",
              "    [theme=dark] .colab-df-convert:hover {\n",
              "      background-color: #434B5C;\n",
              "      box-shadow: 0px 1px 3px 1px rgba(0, 0, 0, 0.15);\n",
              "      filter: drop-shadow(0px 1px 2px rgba(0, 0, 0, 0.3));\n",
              "      fill: #FFFFFF;\n",
              "    }\n",
              "  </style>\n",
              "\n",
              "      <script>\n",
              "        const buttonEl =\n",
              "          document.querySelector('#df-1c3fa6fb-04b7-4b90-ac01-59045b668fca button.colab-df-convert');\n",
              "        buttonEl.style.display =\n",
              "          google.colab.kernel.accessAllowed ? 'block' : 'none';\n",
              "\n",
              "        async function convertToInteractive(key) {\n",
              "          const element = document.querySelector('#df-1c3fa6fb-04b7-4b90-ac01-59045b668fca');\n",
              "          const dataTable =\n",
              "            await google.colab.kernel.invokeFunction('convertToInteractive',\n",
              "                                                     [key], {});\n",
              "          if (!dataTable) return;\n",
              "\n",
              "          const docLinkHtml = 'Like what you see? Visit the ' +\n",
              "            '<a target=\"_blank\" href=https://colab.research.google.com/notebooks/data_table.ipynb>data table notebook</a>'\n",
              "            + ' to learn more about interactive tables.';\n",
              "          element.innerHTML = '';\n",
              "          dataTable['output_type'] = 'display_data';\n",
              "          await google.colab.output.renderOutput(dataTable, element);\n",
              "          const docLink = document.createElement('div');\n",
              "          docLink.innerHTML = docLinkHtml;\n",
              "          element.appendChild(docLink);\n",
              "        }\n",
              "      </script>\n",
              "    </div>\n",
              "  </div>\n",
              "  "
            ]
          },
          "metadata": {},
          "execution_count": 3
        }
      ]
    },
    {
      "cell_type": "code",
      "source": [
        "from tensorflow.keras.layers import Bidirectional, LSTM, GRU"
      ],
      "metadata": {
        "id": "XBFKjG36ylzc"
      },
      "execution_count": null,
      "outputs": []
    },
    {
      "cell_type": "code",
      "source": [
        "from threading import Barrier\n",
        "\n",
        "\n",
        "import pandas as pd\n",
        "import tensorflow as tf\n",
        "\n",
        "\n",
        "def normalize_series(data, min, max):\n",
        "    data = data - min\n",
        "    data = data / max\n",
        "    return data\n",
        "\n",
        "def windowed_dataset(series, batch_size, n_past=10, n_future=10, shift=1):\n",
        "    ds = tf.data.Dataset.from_tensor_slices(series)\n",
        "    ds = ds.window(size=n_past + n_future, shift=shift, drop_remainder=True)\n",
        "    ds = ds.flat_map(lambda w: w.batch(n_past + n_future))\n",
        "    ds = ds.map(lambda w: (w[:n_past], w[n_past:]))\n",
        "    return ds.batch(batch_size).prefetch(1)\n",
        "\n",
        "def solution_model():\n",
        "    # DO NOT CHANGE THIS CODE\n",
        "    # Reads the dataset.\n",
        "    df = pd.read_csv('sales.csv',\n",
        "                     infer_datetime_format=True, index_col='Month', header=0)\n",
        "\n",
        "    # Number of features in the dataset. We use all features as predictors to\n",
        "    # predict all features of future time steps.\n",
        "    N_FEATURES = len(df.columns) # DO NOT CHANGE THIS\n",
        "\n",
        "    # Normalizes the data\n",
        "    data = df.values\n",
        "    data = normalize_series(data, data.min(axis=0), data.max(axis=0))\n",
        "\n",
        "    # Splits the data into training and validation sets.\n",
        "    SPLIT_TIME = int(len(data) * 0.8) # DO NOT CHANGE THIS\n",
        "    x_train = data[:SPLIT_TIME]\n",
        "    x_valid = data[SPLIT_TIME:]\n",
        "\n",
        "    # DO NOT CHANGE THIS CODE\n",
        "\n",
        "\n",
        "\n",
        "    BATCH_SIZE = 32  # ADVISED NOT TO CHANGE THIS\n",
        "\n",
        "    N_PAST = 10  # DO NOT CHANGE THIS\n",
        "\n",
        "    # Number of future time steps which are to be predicted.\n",
        "    N_FUTURE = 10  # DO NOT CHANGE THIS\n",
        "\n",
        "    SHIFT = 1  # DO NOT CHANGE THIS\n",
        "\n",
        "    # Code to create windowed train and validation datasets.\n",
        "    train_set = windowed_dataset(series=x_train, batch_size=BATCH_SIZE,\n",
        "                                 n_past=N_PAST, n_future=N_FUTURE,\n",
        "                                 shift=SHIFT)\n",
        "    valid_set = windowed_dataset(series=x_valid, batch_size=BATCH_SIZE,\n",
        "                                 n_past=N_PAST, n_future=N_FUTURE,\n",
        "                                 shift=SHIFT)\n",
        "\n",
        "    # Code to define your model.\n",
        "\n",
        "    model = tf.keras.models.Sequential([\n",
        "        tf.keras.layers.LSTM(16, return_sequences=True,activation='elu', input_shape=(N_PAST, N_FEATURES)),\n",
        "        tf.keras.layers.LSTM(32, activation='elu', return_sequences=True),\n",
        "        tf.keras.layers.SimpleRNN(32, activation='elu',return_sequences=True ),\n",
        "        tf.keras.layers.GRU(64, activation='relu'),\n",
        "        tf.keras.layers.Dense(N_FEATURES)\n",
        "    ])\n",
        "    \n",
        "\n",
        "   \n",
        "\n",
        "    optimizer = 'rmsprop'\n",
        "    model.compile(\n",
        "        loss=\"huber\",\n",
        "        optimizer=optimizer,\n",
        "        metrics=[\"mae\"]\n",
        "    \n",
        "    )\n",
        "\n",
        "    history=model.fit(\n",
        "        train_set, validation_data=valid_set,validation_steps=1, epochs=50,\n",
        "          batch_size = BATCH_SIZE)\n",
        "\n",
        "    return model, history\n",
        "\n",
        "model, history = solution_model()"
      ],
      "metadata": {
        "colab": {
          "base_uri": "https://localhost:8080/"
        },
        "id": "DlUUrW1ZyuwT",
        "outputId": "6875705c-168d-4e38-b421-b63b8d3cf154"
      },
      "execution_count": null,
      "outputs": [
        {
          "output_type": "stream",
          "name": "stdout",
          "text": [
            "Epoch 1/50\n",
            "      1/Unknown - 5s 5s/step - loss: 0.0349 - mae: 0.2403WARNING:tensorflow:Your input ran out of data; interrupting training. Make sure that your dataset or generator can generate at least `steps_per_epoch * epochs` batches (in this case, 1 batches). You may need to use the repeat() function when building your dataset.\n",
            "1/1 [==============================] - 6s 6s/step - loss: 0.0349 - mae: 0.2403\n",
            "Epoch 2/50\n",
            "1/1 [==============================] - 0s 46ms/step - loss: 0.0305 - mae: 0.2217\n",
            "Epoch 3/50\n",
            "1/1 [==============================] - 0s 41ms/step - loss: 0.0195 - mae: 0.1667\n",
            "Epoch 4/50\n",
            "1/1 [==============================] - 0s 44ms/step - loss: 0.0105 - mae: 0.1144\n",
            "Epoch 5/50\n",
            "1/1 [==============================] - 0s 41ms/step - loss: 0.0059 - mae: 0.0841\n",
            "Epoch 6/50\n",
            "1/1 [==============================] - 0s 45ms/step - loss: 0.0059 - mae: 0.0833\n",
            "Epoch 7/50\n",
            "1/1 [==============================] - 0s 44ms/step - loss: 0.0059 - mae: 0.0843\n",
            "Epoch 8/50\n",
            "1/1 [==============================] - 0s 43ms/step - loss: 0.0059 - mae: 0.0837\n",
            "Epoch 9/50\n",
            "1/1 [==============================] - 0s 41ms/step - loss: 0.0060 - mae: 0.0854\n",
            "Epoch 10/50\n",
            "1/1 [==============================] - 0s 43ms/step - loss: 0.0060 - mae: 0.0856\n",
            "Epoch 11/50\n",
            "1/1 [==============================] - 0s 45ms/step - loss: 0.0062 - mae: 0.0881\n",
            "Epoch 12/50\n",
            "1/1 [==============================] - 0s 43ms/step - loss: 0.0062 - mae: 0.0883\n",
            "Epoch 13/50\n",
            "1/1 [==============================] - 0s 47ms/step - loss: 0.0065 - mae: 0.0912\n",
            "Epoch 14/50\n",
            "1/1 [==============================] - 0s 43ms/step - loss: 0.0061 - mae: 0.0871\n",
            "Epoch 15/50\n",
            "1/1 [==============================] - 0s 44ms/step - loss: 0.0064 - mae: 0.0899\n",
            "Epoch 16/50\n",
            "1/1 [==============================] - 0s 42ms/step - loss: 0.0062 - mae: 0.0881\n",
            "Epoch 17/50\n",
            "1/1 [==============================] - 0s 52ms/step - loss: 0.0064 - mae: 0.0898\n",
            "Epoch 18/50\n",
            "1/1 [==============================] - 0s 43ms/step - loss: 0.0061 - mae: 0.0866\n",
            "Epoch 19/50\n",
            "1/1 [==============================] - 0s 49ms/step - loss: 0.0061 - mae: 0.0874\n",
            "Epoch 20/50\n",
            "1/1 [==============================] - 0s 43ms/step - loss: 0.0060 - mae: 0.0851\n",
            "Epoch 21/50\n",
            "1/1 [==============================] - 0s 44ms/step - loss: 0.0061 - mae: 0.0869\n",
            "Epoch 22/50\n",
            "1/1 [==============================] - 0s 43ms/step - loss: 0.0060 - mae: 0.0861\n",
            "Epoch 23/50\n",
            "1/1 [==============================] - 0s 43ms/step - loss: 0.0062 - mae: 0.0882\n",
            "Epoch 24/50\n",
            "1/1 [==============================] - 0s 42ms/step - loss: 0.0061 - mae: 0.0872\n",
            "Epoch 25/50\n",
            "1/1 [==============================] - 0s 43ms/step - loss: 0.0063 - mae: 0.0894\n",
            "Epoch 26/50\n",
            "1/1 [==============================] - 0s 42ms/step - loss: 0.0061 - mae: 0.0872\n",
            "Epoch 27/50\n",
            "1/1 [==============================] - 0s 46ms/step - loss: 0.0063 - mae: 0.0887\n",
            "Epoch 28/50\n",
            "1/1 [==============================] - 0s 41ms/step - loss: 0.0060 - mae: 0.0862\n",
            "Epoch 29/50\n",
            "1/1 [==============================] - 0s 57ms/step - loss: 0.0061 - mae: 0.0876\n",
            "Epoch 30/50\n",
            "1/1 [==============================] - 0s 44ms/step - loss: 0.0060 - mae: 0.0857\n",
            "Epoch 31/50\n",
            "1/1 [==============================] - 0s 41ms/step - loss: 0.0061 - mae: 0.0872\n",
            "Epoch 32/50\n",
            "1/1 [==============================] - 0s 40ms/step - loss: 0.0060 - mae: 0.0858\n",
            "Epoch 33/50\n",
            "1/1 [==============================] - 0s 50ms/step - loss: 0.0061 - mae: 0.0876\n",
            "Epoch 34/50\n",
            "1/1 [==============================] - 0s 49ms/step - loss: 0.0060 - mae: 0.0865\n",
            "Epoch 35/50\n",
            "1/1 [==============================] - 0s 41ms/step - loss: 0.0062 - mae: 0.0882\n",
            "Epoch 36/50\n",
            "1/1 [==============================] - 0s 43ms/step - loss: 0.0060 - mae: 0.0865\n",
            "Epoch 37/50\n",
            "1/1 [==============================] - 0s 41ms/step - loss: 0.0062 - mae: 0.0880\n",
            "Epoch 38/50\n",
            "1/1 [==============================] - 0s 42ms/step - loss: 0.0060 - mae: 0.0858\n",
            "Epoch 39/50\n",
            "1/1 [==============================] - 0s 40ms/step - loss: 0.0062 - mae: 0.0878\n",
            "Epoch 40/50\n",
            "1/1 [==============================] - 0s 40ms/step - loss: 0.0061 - mae: 0.0871\n",
            "Epoch 41/50\n",
            "1/1 [==============================] - 0s 46ms/step - loss: 0.0062 - mae: 0.0886\n",
            "Epoch 42/50\n",
            "1/1 [==============================] - 0s 44ms/step - loss: 0.0060 - mae: 0.0864\n",
            "Epoch 43/50\n",
            "1/1 [==============================] - 0s 50ms/step - loss: 0.0061 - mae: 0.0876\n",
            "Epoch 44/50\n",
            "1/1 [==============================] - 0s 43ms/step - loss: 0.0059 - mae: 0.0856\n",
            "Epoch 45/50\n",
            "1/1 [==============================] - 0s 47ms/step - loss: 0.0060 - mae: 0.0869\n",
            "Epoch 46/50\n",
            "1/1 [==============================] - 0s 42ms/step - loss: 0.0059 - mae: 0.0854\n",
            "Epoch 47/50\n",
            "1/1 [==============================] - 0s 42ms/step - loss: 0.0061 - mae: 0.0870\n",
            "Epoch 48/50\n",
            "1/1 [==============================] - 0s 43ms/step - loss: 0.0059 - mae: 0.0858\n",
            "Epoch 49/50\n",
            "1/1 [==============================] - 0s 43ms/step - loss: 0.0061 - mae: 0.0873\n",
            "Epoch 50/50\n",
            "1/1 [==============================] - 0s 44ms/step - loss: 0.0060 - mae: 0.0860\n"
          ]
        }
      ]
    },
    {
      "cell_type": "code",
      "source": [
        "def make_preds(model, input_data):\n",
        "  \"\"\"\n",
        "  Uses model to make predictions on input_data.\n",
        "\n",
        "  Parameters\n",
        "  ----------\n",
        "  model: trained model \n",
        "  input_data: windowed input data (same kind of data model was trained on)\n",
        "\n",
        "  Returns model predictions on input_data.\n",
        "  \"\"\"\n",
        "  forecast = model.predict(input_data)\n",
        "  return tf.squeeze(forecast) # return 1D array of predictions"
      ],
      "metadata": {
        "id": "aifTI2X33s22"
      },
      "execution_count": null,
      "outputs": []
    },
    {
      "cell_type": "code",
      "source": [
        "# Make predictions using model_1 on the test dataset and view the results\n",
        "model_preds = make_preds(model, test_windows)\n",
        "len(model_preds), model_1_preds[:10]"
      ],
      "metadata": {
        "id": "RtgFV87X4ezr"
      },
      "execution_count": null,
      "outputs": []
    },
    {
      "cell_type": "code",
      "source": [
        "def plot_loss_curves(history):\n",
        "  \"\"\"\n",
        "  Returns separate loss curves for training and validation metrics.\n",
        "  \"\"\" \n",
        "  loss = history.history['loss']\n",
        "  #val_loss = history.history['val_loss']\n",
        "\n",
        "  mae = history.history['mae']\n",
        "  #val_mae = history.history['val_mae']\n",
        "\n",
        "  epochs = range(len(history.history['loss']))\n",
        "\n",
        "  # Plot loss\n",
        "  plt.plot(epochs, loss, label='training_loss')\n",
        "  #plt.plot(epochs, val_loss, label='val_loss')\n",
        "  plt.title('Loss')\n",
        "  plt.xlabel('Epochs')\n",
        "  plt.legend()\n",
        "\n",
        "  # Plot mae\n",
        "  plt.figure()\n",
        "  plt.plot(epochs, mae, label='training_mae')\n",
        "  #plt.plot(epochs, val_mae, label='val_mae')\n",
        "  plt.title('Mae')\n",
        "  plt.xlabel('Epochs')\n",
        "  plt.legend();"
      ],
      "metadata": {
        "id": "J4Xiyj0dz6b7"
      },
      "execution_count": null,
      "outputs": []
    },
    {
      "cell_type": "code",
      "source": [
        "plot_loss_curves(history)"
      ],
      "metadata": {
        "colab": {
          "base_uri": "https://localhost:8080/",
          "height": 573
        },
        "id": "FufzuHM61pV3",
        "outputId": "0668c4e2-3a40-4bd4-bef3-45dc3e6cd87b"
      },
      "execution_count": null,
      "outputs": [
        {
          "output_type": "display_data",
          "data": {
            "text/plain": [
              "<Figure size 432x288 with 1 Axes>"
            ],
            "image/png": "[encoded data removed]"
          },
          "metadata": {
            "needs_background": "light"
          }
        },
        {
          "output_type": "display_data",
          "data": {
            "text/plain": [
              "<Figure size 432x288 with 1 Axes>"
            ],
            "image/png": "[encoded data removed]"
          },
          "metadata": {
            "needs_background": "light"
          }
        }
      ]
    },
    {
      "cell_type": "code",
      "source": [
        "import matplotlib.pyplot as plt\n",
        "df.plot(figsize=(10, 7))\n",
        "plt.ylabel(\"Sales\")\n",
        "plt.title(\"Sales\", fontsize=16)\n",
        "plt.legend(fontsize=14);"
      ],
      "metadata": {
        "colab": {
          "base_uri": "https://localhost:8080/",
          "height": 472
        },
        "id": "8uyHR-pU1rhO",
        "outputId": "45834d79-5b69-4f05-df4f-06f012fd6561"
      },
      "execution_count": null,
      "outputs": [
        {
          "output_type": "display_data",
          "data": {
            "text/plain": [
              "<Figure size 720x504 with 1 Axes>"
            ],
            "image/png": "[encoded data removed]"
          },
          "metadata": {
            "needs_background": "light"
          }
        }
      ]
    },
    {
      "cell_type": "code",
      "source": [
        "##################3"
      ],
      "metadata": {
        "id": "5-8jCFUO2I3w"
      },
      "execution_count": null,
      "outputs": []
    },
    {
      "cell_type": "code",
      "source": [
        "# Import with pandas \n",
        "import pandas as pd\n",
        "# Parse dates and set date column to index\n",
        "df = pd.read_csv(\"/content/sales.csv\", \n",
        "                 parse_dates=[\"Month\"], \n",
        "                 index_col=[\"Month\"]) # parse the date column (tell pandas column 1 is a datetime)\n",
        "df.head()"
      ],
      "metadata": {
        "colab": {
          "base_uri": "https://localhost:8080/",
          "height": 238
        },
        "id": "rx9FDU4p5isQ",
        "outputId": "84994e6a-4ba0-4f93-c5e2-e051280bd60b"
      },
      "execution_count": null,
      "outputs": [
        {
          "output_type": "execute_result",
          "data": {
            "text/plain": [
              "            Sales\n",
              "Month            \n",
              "2015-01-01  266.0\n",
              "2015-02-01  145.9\n",
              "2015-03-01  183.1\n",
              "2015-04-01  119.3\n",
              "2015-05-01  180.3"
            ],
            "text/html": [
              "\n",
              "  <div id=\"df-996e83d6-52de-4c89-9f3f-44e82b4975fc\">\n",
              "    <div class=\"colab-df-container\">\n",
              "      <div>\n",
              "<style scoped>\n",
              "    .dataframe tbody tr th:only-of-type {\n",
              "        vertical-align: middle;\n",
              "    }\n",
              "\n",
              "    .dataframe tbody tr th {\n",
              "        vertical-align: top;\n",
              "    }\n",
              "\n",
              "    .dataframe thead th {\n",
              "        text-align: right;\n",
              "    }\n",
              "</style>\n",
              "<table border=\"1\" class=\"dataframe\">\n",
              "  <thead>\n",
              "    <tr style=\"text-align: right;\">\n",
              "      <th></th>\n",
              "      <th>Sales</th>\n",
              "    </tr>\n",
              "    <tr>\n",
              "      <th>Month</th>\n",
              "      <th></th>\n",
              "    </tr>\n",
              "  </thead>\n",
              "  <tbody>\n",
              "    <tr>\n",
              "      <th>2015-01-01</th>\n",
              "      <td>266.0</td>\n",
              "    </tr>\n",
              "    <tr>\n",
              "      <th>2015-02-01</th>\n",
              "      <td>145.9</td>\n",
              "    </tr>\n",
              "    <tr>\n",
              "      <th>2015-03-01</th>\n",
              "      <td>183.1</td>\n",
              "    </tr>\n",
              "    <tr>\n",
              "      <th>2015-04-01</th>\n",
              "      <td>119.3</td>\n",
              "    </tr>\n",
              "    <tr>\n",
              "      <th>2015-05-01</th>\n",
              "      <td>180.3</td>\n",
              "    </tr>\n",
              "  </tbody>\n",
              "</table>\n",
              "</div>\n",
              "      <button class=\"colab-df-convert\" onclick=\"convertToInteractive('df-996e83d6-52de-4c89-9f3f-44e82b4975fc')\"\n",
              "              title=\"Convert this dataframe to an interactive table.\"\n",
              "              style=\"display:none;\">\n",
              "        \n",
              "  <svg xmlns=\"http://www.w3.org/2000/svg\" height=\"24px\"viewBox=\"0 0 24 24\"\n",
              "       width=\"24px\">\n",
              "    <path d=\"M0 0h24v24H0V0z\" fill=\"none\"/>\n",
              "    <path d=\"M18.56 5.44l.94 2.06.94-2.06 2.06-.94-2.06-.94-.94-2.06-.94 2.06-2.06.94zm-11 1L8.5 8.5l.94-2.06 2.06-.94-2.06-.94L8.5 2.5l-.94 2.06-2.06.94zm10 10l.94 2.06.94-2.06 2.06-.94-2.06-.94-.94-2.06-.94 2.06-2.06.94z\"/><path d=\"M17.41 7.96l-1.37-1.37c-.4-.4-.92-.59-1.43-.59-.52 0-1.04.2-1.43.59L10.3 9.45l-7.72 7.72c-.78.78-.78 2.05 0 2.83L4 21.41c.39.39.9.59 1.41.59.51 0 1.02-.2 1.41-.59l7.78-7.78 2.81-2.81c.8-.78.8-2.07 0-2.86zM5.41 20L4 18.59l7.72-7.72 1.47 1.35L5.41 20z\"/>\n",
              "  </svg>\n",
              "      </button>\n",
              "      \n",
              "  <style>\n",
              "    .colab-df-container {\n",
              "      display:flex;\n",
              "      flex-wrap:wrap;\n",
              "      gap: 12px;\n",
              "    }\n",
              "\n",
              "    .colab-df-convert {\n",
              "      background-color: #E8F0FE;\n",
              "      border: none;\n",
              "      border-radius: 50%;\n",
              "      cursor: pointer;\n",
              "      display: none;\n",
              "      fill: #1967D2;\n",
              "      height: 32px;\n",
              "      padding: 0 0 0 0;\n",
              "      width: 32px;\n",
              "    }\n",
              "\n",
              "    .colab-df-convert:hover {\n",
              "      background-color: #E2EBFA;\n",
              "      box-shadow: 0px 1px 2px rgba(60, 64, 67, 0.3), 0px 1px 3px 1px rgba(60, 64, 67, 0.15);\n",
              "      fill: #174EA6;\n",
              "    }\n",
              "\n",
              "    [theme=dark] .colab-df-convert {\n",
              "      background-color: #3B4455;\n",
              "      fill: #D2E3FC;\n",
              "    }\n",
              "\n",
              "    [theme=dark] .colab-df-convert:hover {\n",
              "      background-color: #434B5C;\n",
              "      box-shadow: 0px 1px 3px 1px rgba(0, 0, 0, 0.15);\n",
              "      filter: drop-shadow(0px 1px 2px rgba(0, 0, 0, 0.3));\n",
              "      fill: #FFFFFF;\n",
              "    }\n",
              "  </style>\n",
              "\n",
              "      <script>\n",
              "        const buttonEl =\n",
              "          document.querySelector('#df-996e83d6-52de-4c89-9f3f-44e82b4975fc button.colab-df-convert');\n",
              "        buttonEl.style.display =\n",
              "          google.colab.kernel.accessAllowed ? 'block' : 'none';\n",
              "\n",
              "        async function convertToInteractive(key) {\n",
              "          const element = document.querySelector('#df-996e83d6-52de-4c89-9f3f-44e82b4975fc');\n",
              "          const dataTable =\n",
              "            await google.colab.kernel.invokeFunction('convertToInteractive',\n",
              "                                                     [key], {});\n",
              "          if (!dataTable) return;\n",
              "\n",
              "          const docLinkHtml = 'Like what you see? Visit the ' +\n",
              "            '<a target=\"_blank\" href=https://colab.research.google.com/notebooks/data_table.ipynb>data table notebook</a>'\n",
              "            + ' to learn more about interactive tables.';\n",
              "          element.innerHTML = '';\n",
              "          dataTable['output_type'] = 'display_data';\n",
              "          await google.colab.output.renderOutput(dataTable, element);\n",
              "          const docLink = document.createElement('div');\n",
              "          docLink.innerHTML = docLinkHtml;\n",
              "          element.appendChild(docLink);\n",
              "        }\n",
              "      </script>\n",
              "    </div>\n",
              "  </div>\n",
              "  "
            ]
          },
          "metadata": {},
          "execution_count": 2
        }
      ]
    },
    {
      "cell_type": "code",
      "source": [
        "df.info()"
      ],
      "metadata": {
        "colab": {
          "base_uri": "https://localhost:8080/"
        },
        "id": "rfL99_je5omv",
        "outputId": "bd52cc2c-e0f9-4799-dd79-4b0f30db12da"
      },
      "execution_count": null,
      "outputs": [
        {
          "output_type": "stream",
          "name": "stdout",
          "text": [
            "<class 'pandas.core.frame.DataFrame'>\n",
            "DatetimeIndex: 36 entries, 2015-01-01 to 2017-12-01\n",
            "Data columns (total 1 columns):\n",
            " #   Column  Non-Null Count  Dtype  \n",
            "---  ------  --------------  -----  \n",
            " 0   Sales   36 non-null     float64\n",
            "dtypes: float64(1)\n",
            "memory usage: 576.0 bytes\n"
          ]
        }
      ]
    },
    {
      "cell_type": "code",
      "source": [
        "len(df)"
      ],
      "metadata": {
        "colab": {
          "base_uri": "https://localhost:8080/"
        },
        "id": "B_7QgjCr5rwr",
        "outputId": "dad99407-5475-4bca-b848-357b44e787bc"
      },
      "execution_count": null,
      "outputs": [
        {
          "output_type": "execute_result",
          "data": {
            "text/plain": [
              "36"
            ]
          },
          "metadata": {},
          "execution_count": 4
        }
      ]
    },
    {
      "cell_type": "code",
      "source": [
        "sales = pd.DataFrame(df)\n",
        "sales.head()"
      ],
      "metadata": {
        "colab": {
          "base_uri": "https://localhost:8080/",
          "height": 238
        },
        "id": "zMiMaraK5ub8",
        "outputId": "cbf4a149-7f39-4845-8781-a42b48575515"
      },
      "execution_count": null,
      "outputs": [
        {
          "output_type": "execute_result",
          "data": {
            "text/plain": [
              "            Sales\n",
              "Month            \n",
              "2015-01-01  266.0\n",
              "2015-02-01  145.9\n",
              "2015-03-01  183.1\n",
              "2015-04-01  119.3\n",
              "2015-05-01  180.3"
            ],
            "text/html": [
              "\n",
              "  <div id=\"df-1b4d643f-ebb5-4292-b228-a0b2304da3a3\">\n",
              "    <div class=\"colab-df-container\">\n",
              "      <div>\n",
              "<style scoped>\n",
              "    .dataframe tbody tr th:only-of-type {\n",
              "        vertical-align: middle;\n",
              "    }\n",
              "\n",
              "    .dataframe tbody tr th {\n",
              "        vertical-align: top;\n",
              "    }\n",
              "\n",
              "    .dataframe thead th {\n",
              "        text-align: right;\n",
              "    }\n",
              "</style>\n",
              "<table border=\"1\" class=\"dataframe\">\n",
              "  <thead>\n",
              "    <tr style=\"text-align: right;\">\n",
              "      <th></th>\n",
              "      <th>Sales</th>\n",
              "    </tr>\n",
              "    <tr>\n",
              "      <th>Month</th>\n",
              "      <th></th>\n",
              "    </tr>\n",
              "  </thead>\n",
              "  <tbody>\n",
              "    <tr>\n",
              "      <th>2015-01-01</th>\n",
              "      <td>266.0</td>\n",
              "    </tr>\n",
              "    <tr>\n",
              "      <th>2015-02-01</th>\n",
              "      <td>145.9</td>\n",
              "    </tr>\n",
              "    <tr>\n",
              "      <th>2015-03-01</th>\n",
              "      <td>183.1</td>\n",
              "    </tr>\n",
              "    <tr>\n",
              "      <th>2015-04-01</th>\n",
              "      <td>119.3</td>\n",
              "    </tr>\n",
              "    <tr>\n",
              "      <th>2015-05-01</th>\n",
              "      <td>180.3</td>\n",
              "    </tr>\n",
              "  </tbody>\n",
              "</table>\n",
              "</div>\n",
              "      <button class=\"colab-df-convert\" onclick=\"convertToInteractive('df-1b4d643f-ebb5-4292-b228-a0b2304da3a3')\"\n",
              "              title=\"Convert this dataframe to an interactive table.\"\n",
              "              style=\"display:none;\">\n",
              "        \n",
              "  <svg xmlns=\"http://www.w3.org/2000/svg\" height=\"24px\"viewBox=\"0 0 24 24\"\n",
              "       width=\"24px\">\n",
              "    <path d=\"M0 0h24v24H0V0z\" fill=\"none\"/>\n",
              "    <path d=\"M18.56 5.44l.94 2.06.94-2.06 2.06-.94-2.06-.94-.94-2.06-.94 2.06-2.06.94zm-11 1L8.5 8.5l.94-2.06 2.06-.94-2.06-.94L8.5 2.5l-.94 2.06-2.06.94zm10 10l.94 2.06.94-2.06 2.06-.94-2.06-.94-.94-2.06-.94 2.06-2.06.94z\"/><path d=\"M17.41 7.96l-1.37-1.37c-.4-.4-.92-.59-1.43-.59-.52 0-1.04.2-1.43.59L10.3 9.45l-7.72 7.72c-.78.78-.78 2.05 0 2.83L4 21.41c.39.39.9.59 1.41.59.51 0 1.02-.2 1.41-.59l7.78-7.78 2.81-2.81c.8-.78.8-2.07 0-2.86zM5.41 20L4 18.59l7.72-7.72 1.47 1.35L5.41 20z\"/>\n",
              "  </svg>\n",
              "      </button>\n",
              "      \n",
              "  <style>\n",
              "    .colab-df-container {\n",
              "      display:flex;\n",
              "      flex-wrap:wrap;\n",
              "      gap: 12px;\n",
              "    }\n",
              "\n",
              "    .colab-df-convert {\n",
              "      background-color: #E8F0FE;\n",
              "      border: none;\n",
              "      border-radius: 50%;\n",
              "      cursor: pointer;\n",
              "      display: none;\n",
              "      fill: #1967D2;\n",
              "      height: 32px;\n",
              "      padding: 0 0 0 0;\n",
              "      width: 32px;\n",
              "    }\n",
              "\n",
              "    .colab-df-convert:hover {\n",
              "      background-color: #E2EBFA;\n",
              "      box-shadow: 0px 1px 2px rgba(60, 64, 67, 0.3), 0px 1px 3px 1px rgba(60, 64, 67, 0.15);\n",
              "      fill: #174EA6;\n",
              "    }\n",
              "\n",
              "    [theme=dark] .colab-df-convert {\n",
              "      background-color: #3B4455;\n",
              "      fill: #D2E3FC;\n",
              "    }\n",
              "\n",
              "    [theme=dark] .colab-df-convert:hover {\n",
              "      background-color: #434B5C;\n",
              "      box-shadow: 0px 1px 3px 1px rgba(0, 0, 0, 0.15);\n",
              "      filter: drop-shadow(0px 1px 2px rgba(0, 0, 0, 0.3));\n",
              "      fill: #FFFFFF;\n",
              "    }\n",
              "  </style>\n",
              "\n",
              "      <script>\n",
              "        const buttonEl =\n",
              "          document.querySelector('#df-1b4d643f-ebb5-4292-b228-a0b2304da3a3 button.colab-df-convert');\n",
              "        buttonEl.style.display =\n",
              "          google.colab.kernel.accessAllowed ? 'block' : 'none';\n",
              "\n",
              "        async function convertToInteractive(key) {\n",
              "          const element = document.querySelector('#df-1b4d643f-ebb5-4292-b228-a0b2304da3a3');\n",
              "          const dataTable =\n",
              "            await google.colab.kernel.invokeFunction('convertToInteractive',\n",
              "                                                     [key], {});\n",
              "          if (!dataTable) return;\n",
              "\n",
              "          const docLinkHtml = 'Like what you see? Visit the ' +\n",
              "            '<a target=\"_blank\" href=https://colab.research.google.com/notebooks/data_table.ipynb>data table notebook</a>'\n",
              "            + ' to learn more about interactive tables.';\n",
              "          element.innerHTML = '';\n",
              "          dataTable['output_type'] = 'display_data';\n",
              "          await google.colab.output.renderOutput(dataTable, element);\n",
              "          const docLink = document.createElement('div');\n",
              "          docLink.innerHTML = docLinkHtml;\n",
              "          element.appendChild(docLink);\n",
              "        }\n",
              "      </script>\n",
              "    </div>\n",
              "  </div>\n",
              "  "
            ]
          },
          "metadata": {},
          "execution_count": 5
        }
      ]
    },
    {
      "cell_type": "code",
      "source": [
        "import matplotlib.pyplot as plt\n",
        "df.plot(figsize=(10, 7))\n",
        "plt.ylabel(\"Sales\")\n",
        "plt.title(\"Sales\", fontsize=16)\n",
        "plt.legend(fontsize=14);"
      ],
      "metadata": {
        "colab": {
          "base_uri": "https://localhost:8080/",
          "height": 472
        },
        "id": "Y3SHLdxw6J58",
        "outputId": "415e068b-52fe-4323-a4b5-3afd7d975e9a"
      },
      "execution_count": null,
      "outputs": [
        {
          "output_type": "display_data",
          "data": {
            "text/plain": [
              "<Figure size 720x504 with 1 Axes>"
            ],
            "image/png": "[encoded data removed]"
          },
          "metadata": {
            "needs_background": "light"
          }
        }
      ]
    },
    {
      "cell_type": "code",
      "source": [
        "\n",
        "timesteps = df.index.to_numpy()\n",
        "sales = df[\"Sales\"].to_numpy()\n",
        "\n",
        "timesteps[:10], sales[:10]"
      ],
      "metadata": {
        "colab": {
          "base_uri": "https://localhost:8080/"
        },
        "id": "0hTpOfLm64x0",
        "outputId": "3c771595-4287-4503-b0e5-cbd8d367636f"
      },
      "execution_count": null,
      "outputs": [
        {
          "output_type": "execute_result",
          "data": {
            "text/plain": [
              "(array(['2015-01-01T00:00:00.000000000', '2015-02-01T00:00:00.000000000',\n",
              "        '2015-03-01T00:00:00.000000000', '2015-04-01T00:00:00.000000000',\n",
              "        '2015-05-01T00:00:00.000000000', '2015-06-01T00:00:00.000000000',\n",
              "        '2015-07-01T00:00:00.000000000', '2015-08-01T00:00:00.000000000',\n",
              "        '2015-09-01T00:00:00.000000000', '2015-10-01T00:00:00.000000000'],\n",
              "       dtype='datetime64[ns]'),\n",
              " array([266. , 145.9, 183.1, 119.3, 180.3, 168.5, 231.8, 224.5, 192.8,\n",
              "        122.9]))"
            ]
          },
          "metadata": {},
          "execution_count": 7
        }
      ]
    },
    {
      "cell_type": "code",
      "source": [
        "# Create train and test splits the right way for time series data\n",
        "split_size = int(0.8 * len(sales)) # 80% train, 20% test\n",
        "\n",
        "# Create train data splits (everything before the split)\n",
        "X_train, y_train = timesteps[:split_size], sales[:split_size]\n",
        "\n",
        "# Create test data splits (everything after the split)\n",
        "X_test, y_test = timesteps[split_size:], sales[split_size:]\n",
        "\n",
        "len(X_train), len(X_test), len(y_train), len(y_test)"
      ],
      "metadata": {
        "colab": {
          "base_uri": "https://localhost:8080/"
        },
        "id": "6QVSikNR7Id2",
        "outputId": "e4d4c433-f5c5-4cea-edc8-73df6cf78e69"
      },
      "execution_count": null,
      "outputs": [
        {
          "output_type": "execute_result",
          "data": {
            "text/plain": [
              "(28, 8, 28, 8)"
            ]
          },
          "metadata": {},
          "execution_count": 8
        }
      ]
    },
    {
      "cell_type": "code",
      "source": [
        "# Plot correctly made splits\n",
        "plt.figure(figsize=(10, 7))\n",
        "plt.scatter(X_train, y_train, s=5, label=\"Train data\")\n",
        "plt.scatter(X_test, y_test, s=5, label=\"Test data\")\n",
        "plt.xlabel(\"Date\")\n",
        "plt.ylabel(\"Sales\")\n",
        "plt.legend(fontsize=14)\n",
        "plt.show();"
      ],
      "metadata": {
        "colab": {
          "base_uri": "https://localhost:8080/",
          "height": 442
        },
        "id": "CgG0cDR88ZDv",
        "outputId": "8943c603-2059-43ad-dc1e-897be59a4c7c"
      },
      "execution_count": null,
      "outputs": [
        {
          "output_type": "display_data",
          "data": {
            "text/plain": [
              "<Figure size 720x504 with 1 Axes>"
            ],
            "image/png": "[encoded data removed]"
          },
          "metadata": {
            "needs_background": "light"
          }
        }
      ]
    },
    {
      "cell_type": "code",
      "source": [
        "# Create a function to plot time series data\n",
        "def plot_time_series(timesteps, values, format='.', start=0, end=None, label=None):\n",
        "  \"\"\"\n",
        "  Plots a timesteps (a series of points in time) against values (a series of values across timesteps).\n",
        "  \n",
        "  Parameters\n",
        "  ---------\n",
        "  timesteps : array of timesteps\n",
        "  values : array of values across time\n",
        "  format : style of plot, default \".\"\n",
        "  start : where to start the plot (setting a value will index from start of timesteps & values)\n",
        "  end : where to end the plot (setting a value will index from end of timesteps & values)\n",
        "  label : label to show on plot of values\n",
        "  \"\"\"\n",
        "  # Plot the series\n",
        "  plt.plot(timesteps[start:end], values[start:end], format, label=label)\n",
        "  plt.xlabel(\"Time\")\n",
        "  plt.ylabel(\"Sales\")\n",
        "  if label:\n",
        "    plt.legend(fontsize=14) # make label bigger\n",
        "  plt.grid(True)"
      ],
      "metadata": {
        "id": "N4R2CAJp8eQg"
      },
      "execution_count": null,
      "outputs": []
    },
    {
      "cell_type": "code",
      "source": [
        "# Try out our plotting function\n",
        "plt.figure(figsize=(10, 7))\n",
        "plot_time_series(timesteps=X_train, values=y_train, label=\"Train data\")\n",
        "plot_time_series(timesteps=X_test, values=y_test, label=\"Test data\")"
      ],
      "metadata": {
        "colab": {
          "base_uri": "https://localhost:8080/",
          "height": 442
        },
        "id": "y_QkW_hD8mw_",
        "outputId": "b89ee951-d5ad-463b-b054-4f8d0a2b0d49"
      },
      "execution_count": null,
      "outputs": [
        {
          "output_type": "display_data",
          "data": {
            "text/plain": [
              "<Figure size 720x504 with 1 Axes>"
            ],
            "image/png": "[encoded data removed]"
          },
          "metadata": {
            "needs_background": "light"
          }
        }
      ]
    },
    {
      "cell_type": "code",
      "source": [
        "# Create a naïve forecast\n",
        "naive_forecast = y_test[:-1] # Naïve forecast equals every value excluding the last value\n",
        "naive_forecast[:10], naive_forecast[-10:] # View frist 10 and last 10 "
      ],
      "metadata": {
        "colab": {
          "base_uri": "https://localhost:8080/"
        },
        "id": "hL7EpQDO8pWt",
        "outputId": "729a8e6b-91cb-4360-da39-763c3fd8a388"
      },
      "execution_count": null,
      "outputs": [
        {
          "output_type": "execute_result",
          "data": {
            "text/plain": [
              "(array([401.3, 437.4, 575.5, 407.6, 682. , 475.3, 581.3]),\n",
              " array([401.3, 437.4, 575.5, 407.6, 682. , 475.3, 581.3]))"
            ]
          },
          "metadata": {},
          "execution_count": 12
        }
      ]
    },
    {
      "cell_type": "code",
      "source": [
        "# Plot naive forecast\n",
        "plt.figure(figsize=(10, 7))\n",
        "plot_time_series(timesteps=X_train, values=y_train, label=\"Train data\")\n",
        "plot_time_series(timesteps=X_test, values=y_test, label=\"Test data\")\n",
        "plot_time_series(timesteps=X_test[1:], values=naive_forecast, format=\"-\", label=\"Naive forecast\");"
      ],
      "metadata": {
        "colab": {
          "base_uri": "https://localhost:8080/",
          "height": 442
        },
        "id": "O20UVQUG85Zh",
        "outputId": "73084841-8462-42c5-fb7f-2e37164e7fb5"
      },
      "execution_count": null,
      "outputs": [
        {
          "output_type": "display_data",
          "data": {
            "text/plain": [
              "<Figure size 720x504 with 1 Axes>"
            ],
            "image/png": "[encoded data removed]"
          },
          "metadata": {
            "needs_background": "light"
          }
        }
      ]
    },
    {
      "cell_type": "code",
      "source": [
        "HORIZON = 1 # predict 1 step at a time\n",
        "WINDOW_SIZE = 7 # use a week worth of timesteps to predict the horizon"
      ],
      "metadata": {
        "id": "3TtLC3dG88Ey"
      },
      "execution_count": null,
      "outputs": []
    },
    {
      "cell_type": "code",
      "source": [
        "# Create function to label windowed data\n",
        "def get_labelled_windows(x, horizon=1):\n",
        "  \"\"\"\n",
        "  Creates labels for windowed dataset.\n",
        "\n",
        "  E.g. if horizon=1 (default)\n",
        "  Input: [1, 2, 3, 4, 5, 6] -> Output: ([1, 2, 3, 4, 5], [6])\n",
        "  \"\"\"\n",
        "  return x[:, :-horizon], x[:, -horizon:]"
      ],
      "metadata": {
        "id": "oiBpKaab9CtJ"
      },
      "execution_count": null,
      "outputs": []
    },
    {
      "cell_type": "code",
      "source": [
        "import numpy as np\n",
        "import pandas as pd\n",
        "import tensorflow as tf"
      ],
      "metadata": {
        "id": "pVfBR5UxIL3V"
      },
      "execution_count": null,
      "outputs": []
    },
    {
      "cell_type": "code",
      "source": [
        "# Test out the window labelling function\n",
        "test_window, test_label = get_labelled_windows(tf.expand_dims(tf.range(8)+1, axis=0), horizon=HORIZON)\n",
        "print(f\"Window: {tf.squeeze(test_window).numpy()} -> Label: {tf.squeeze(test_label).numpy()}\")"
      ],
      "metadata": {
        "colab": {
          "base_uri": "https://localhost:8080/"
        },
        "id": "d7eAo2rs9a4R",
        "outputId": "03012fd5-f559-41c9-8541-0f16d1c20744"
      },
      "execution_count": null,
      "outputs": [
        {
          "output_type": "stream",
          "name": "stdout",
          "text": [
            "Window: [1 2 3 4 5 6 7] -> Label: 8\n"
          ]
        }
      ]
    },
    {
      "cell_type": "code",
      "source": [
        "# Create function to view NumPy arrays as windows \n",
        "def make_windows(x, window_size=7, horizon=1):\n",
        "  \"\"\"\n",
        "  Turns a 1D array into a 2D array of sequential windows of window_size.\n",
        "  \"\"\"\n",
        "  # 1. Create a window of specific window_size (add the horizon on the end for later labelling)\n",
        "  window_step = np.expand_dims(np.arange(window_size+horizon), axis=0)\n",
        "  # print(f\"Window step:\\n {window_step}\")\n",
        "\n",
        "  # 2. Create a 2D array of multiple window steps (minus 1 to account for 0 indexing)\n",
        "  window_indexes = window_step + np.expand_dims(np.arange(len(x)-(window_size+horizon-1)), axis=0).T # create 2D array of windows of size window_size\n",
        "  # print(f\"Window indexes:\\n {window_indexes[:3], window_indexes[-3:], window_indexes.shape}\")\n",
        "\n",
        "  # 3. Index on the target array (time series) with 2D array of multiple window steps\n",
        "  windowed_array = x[window_indexes]\n",
        "\n",
        "  # 4. Get the labelled windows\n",
        "  windows, labels = get_labelled_windows(windowed_array, horizon=horizon)\n",
        "\n",
        "  return windows, labels"
      ],
      "metadata": {
        "id": "IEM8OCH59dfJ"
      },
      "execution_count": null,
      "outputs": []
    },
    {
      "cell_type": "code",
      "source": [
        "full_windows, full_labels = make_windows(sales, window_size=WINDOW_SIZE, horizon=HORIZON)\n",
        "len(full_windows), len(full_labels)"
      ],
      "metadata": {
        "colab": {
          "base_uri": "https://localhost:8080/"
        },
        "id": "7W_TVesy9qVD",
        "outputId": "8a293216-8543-49f8-a827-75ffe6d93e81"
      },
      "execution_count": null,
      "outputs": [
        {
          "output_type": "execute_result",
          "data": {
            "text/plain": [
              "(29, 29)"
            ]
          },
          "metadata": {},
          "execution_count": 26
        }
      ]
    },
    {
      "cell_type": "code",
      "source": [
        "# View the first 3 windows/labels\n",
        "for i in range(3):\n",
        "  print(f\"Window: {full_windows[i]} -> Label: {full_labels[i]}\")"
      ],
      "metadata": {
        "colab": {
          "base_uri": "https://localhost:8080/"
        },
        "id": "PIyjnQWF9tAc",
        "outputId": "7f2d2158-3a2d-4241-f447-b61355b12d0a"
      },
      "execution_count": null,
      "outputs": [
        {
          "output_type": "stream",
          "name": "stdout",
          "text": [
            "Window: [266.  145.9 183.1 119.3 180.3 168.5 231.8] -> Label: [224.5]\n",
            "Window: [145.9 183.1 119.3 180.3 168.5 231.8 224.5] -> Label: [192.8]\n",
            "Window: [183.1 119.3 180.3 168.5 231.8 224.5 192.8] -> Label: [122.9]\n"
          ]
        }
      ]
    },
    {
      "cell_type": "code",
      "source": [
        "# View the last 3 windows/labels\n",
        "for i in range(3):\n",
        "  print(f\"Window: {full_windows[i-3]} -> Label: {full_labels[i-3]}\")"
      ],
      "metadata": {
        "colab": {
          "base_uri": "https://localhost:8080/"
        },
        "id": "FHZQNnGt9zK0",
        "outputId": "3cf5b41f-a67f-4514-ca00-3e37f3bc937c"
      },
      "execution_count": null,
      "outputs": [
        {
          "output_type": "stream",
          "name": "stdout",
          "text": [
            "Window: [315.9 439.3 401.3 437.4 575.5 407.6 682. ] -> Label: [475.3]\n",
            "Window: [439.3 401.3 437.4 575.5 407.6 682.  475.3] -> Label: [581.3]\n",
            "Window: [401.3 437.4 575.5 407.6 682.  475.3 581.3] -> Label: [646.9]\n"
          ]
        }
      ]
    },
    {
      "cell_type": "code",
      "source": [
        "# Make the train/test splits\n",
        "def make_train_test_splits(windows, labels, test_split=0.2):\n",
        "  \"\"\"\n",
        "  Splits matching pairs of windows and labels into train and test splits.\n",
        "  \"\"\"\n",
        "  split_size = int(len(windows) * (1-test_split)) # this will default to 80% train/20% test\n",
        "  train_windows = windows[:split_size]\n",
        "  train_labels = labels[:split_size]\n",
        "  test_windows = windows[split_size:]\n",
        "  test_labels = labels[split_size:]\n",
        "  return train_windows, test_windows, train_labels, test_labels"
      ],
      "metadata": {
        "id": "iU9YCmo8-BLJ"
      },
      "execution_count": null,
      "outputs": []
    },
    {
      "cell_type": "code",
      "source": [
        "train_windows, test_windows, train_labels, test_labels = make_train_test_splits(full_windows, full_labels)\n",
        "len(train_windows), len(test_windows), len(train_labels), len(test_labels)"
      ],
      "metadata": {
        "colab": {
          "base_uri": "https://localhost:8080/"
        },
        "id": "EMj1k_-s-D4J",
        "outputId": "af071ee2-0905-4ba6-eff0-25a97245a01c"
      },
      "execution_count": null,
      "outputs": [
        {
          "output_type": "execute_result",
          "data": {
            "text/plain": [
              "(23, 6, 23, 6)"
            ]
          },
          "metadata": {},
          "execution_count": 30
        }
      ]
    },
    {
      "cell_type": "code",
      "source": [
        "train_windows[:5], train_labels[:5]"
      ],
      "metadata": {
        "colab": {
          "base_uri": "https://localhost:8080/"
        },
        "id": "L7cjkQMG-HOU",
        "outputId": "dd096bbf-b8c6-4b49-d422-bd16dcdb7959"
      },
      "execution_count": null,
      "outputs": [
        {
          "output_type": "execute_result",
          "data": {
            "text/plain": [
              "(array([[266. , 145.9, 183.1, 119.3, 180.3, 168.5, 231.8],\n",
              "        [145.9, 183.1, 119.3, 180.3, 168.5, 231.8, 224.5],\n",
              "        [183.1, 119.3, 180.3, 168.5, 231.8, 224.5, 192.8],\n",
              "        [119.3, 180.3, 168.5, 231.8, 224.5, 192.8, 122.9],\n",
              "        [180.3, 168.5, 231.8, 224.5, 192.8, 122.9, 336.5]]), array([[224.5],\n",
              "        [192.8],\n",
              "        [122.9],\n",
              "        [336.5],\n",
              "        [185.9]]))"
            ]
          },
          "metadata": {},
          "execution_count": 31
        }
      ]
    },
    {
      "cell_type": "code",
      "source": [
        "# Check to see if same (accounting for horizon and window size)\n",
        "np.array_equal(np.squeeze(train_labels[:-HORIZON-1]), y_train[WINDOW_SIZE:])"
      ],
      "metadata": {
        "colab": {
          "base_uri": "https://localhost:8080/"
        },
        "id": "iGLiWnwG-LOr",
        "outputId": "d3296629-cf5a-4c67-9e79-6b9a7ed5e3a6"
      },
      "execution_count": null,
      "outputs": [
        {
          "output_type": "execute_result",
          "data": {
            "text/plain": [
              "True"
            ]
          },
          "metadata": {},
          "execution_count": 32
        }
      ]
    },
    {
      "cell_type": "code",
      "source": [
        "import os\n",
        "\n",
        "# Create a function to implement a ModelCheckpoint callback with a specific filename \n",
        "def create_model_checkpoint(model_name, save_path=\"model_experiments\"):\n",
        "  return tf.keras.callbacks.ModelCheckpoint(filepath=os.path.join(save_path, model_name), # create filepath to save model\n",
        "                                            verbose=0, # only output a limited amount of text\n",
        "                                            save_best_only=True) # save only the best model to file"
      ],
      "metadata": {
        "id": "gcxkVmKQ-NjK"
      },
      "execution_count": null,
      "outputs": []
    },
    {
      "cell_type": "code",
      "source": [
        "import tensorflow as tf\n",
        "from tensorflow.keras import layers\n",
        "\n",
        "# Set random seed for as reproducible results as possible\n",
        "tf.random.set_seed(42)\n",
        "\n",
        "# Construct model\n",
        "model_1 = tf.keras.Sequential([\n",
        "  layers.Dense(128, activation=\"relu\"),\n",
        "  layers.Dense(HORIZON, activation=\"linear\") # linear activation is the same as having no activation                        \n",
        "], name=\"model_1_dense\") # give the model a name so we can save it\n",
        "\n",
        "# Compile model\n",
        "model_1.compile(loss=\"mae\",\n",
        "                optimizer=tf.keras.optimizers.Adam(),\n",
        "                metrics=[\"mae\"]) # we don't necessarily need this when the loss function is already MAE\n",
        "\n",
        "# Fit model\n",
        "model_1.fit(x=train_windows, # train windows of 7 timesteps of Bitcoin prices\n",
        "            y=train_labels, # horizon value of 1 (using the previous 7 timesteps to predict next day)\n",
        "            epochs=100,\n",
        "            verbose=1,\n",
        "            batch_size=128,\n",
        "            validation_data=(test_windows, test_labels),\n",
        "            callbacks=[create_model_checkpoint(model_name=model_1.name)]) # create ModelCheckpoint callback to save best model"
      ],
      "metadata": {
        "colab": {
          "base_uri": "https://localhost:8080/"
        },
        "id": "49iaz2S8-Q--",
        "outputId": "43e59c38-61a5-44a2-9caa-f01afd91f182"
      },
      "execution_count": null,
      "outputs": [
        {
          "output_type": "stream",
          "name": "stdout",
          "text": [
            "Epoch 1/100\n",
            "1/1 [==============================] - ETA: 0s - loss: 187.1362 - mae: 187.1362INFO:tensorflow:Assets written to: model_experiments/model_1_dense/assets\n",
            "1/1 [==============================] - 4s 4s/step - loss: 187.1362 - mae: 187.1362 - val_loss: 356.9047 - val_mae: 356.9047\n",
            "Epoch 2/100\n",
            "1/1 [==============================] - ETA: 0s - loss: 172.6302 - mae: 172.6302INFO:tensorflow:Assets written to: model_experiments/model_1_dense/assets\n",
            "1/1 [==============================] - 0s 498ms/step - loss: 172.6302 - mae: 172.6302 - val_loss: 330.9390 - val_mae: 330.9390\n",
            "Epoch 3/100\n",
            "1/1 [==============================] - ETA: 0s - loss: 158.0794 - mae: 158.0794INFO:tensorflow:Assets written to: model_experiments/model_1_dense/assets\n",
            "1/1 [==============================] - 1s 511ms/step - loss: 158.0794 - mae: 158.0794 - val_loss: 304.9316 - val_mae: 304.9316\n",
            "Epoch 4/100\n",
            "1/1 [==============================] - ETA: 0s - loss: 143.4659 - mae: 143.4659INFO:tensorflow:Assets written to: model_experiments/model_1_dense/assets\n",
            "1/1 [==============================] - 1s 506ms/step - loss: 143.4659 - mae: 143.4659 - val_loss: 278.8706 - val_mae: 278.8706\n",
            "Epoch 5/100\n",
            "1/1 [==============================] - ETA: 0s - loss: 129.0161 - mae: 129.0161INFO:tensorflow:Assets written to: model_experiments/model_1_dense/assets\n",
            "1/1 [==============================] - 1s 501ms/step - loss: 129.0161 - mae: 129.0161 - val_loss: 252.7046 - val_mae: 252.7046\n",
            "Epoch 6/100\n",
            "1/1 [==============================] - ETA: 0s - loss: 115.3831 - mae: 115.3831INFO:tensorflow:Assets written to: model_experiments/model_1_dense/assets\n",
            "1/1 [==============================] - 0s 487ms/step - loss: 115.3831 - mae: 115.3831 - val_loss: 225.9748 - val_mae: 225.9748\n",
            "Epoch 7/100\n",
            "1/1 [==============================] - ETA: 0s - loss: 102.4167 - mae: 102.4167INFO:tensorflow:Assets written to: model_experiments/model_1_dense/assets\n",
            "1/1 [==============================] - 1s 515ms/step - loss: 102.4167 - mae: 102.4167 - val_loss: 199.3049 - val_mae: 199.3049\n",
            "Epoch 8/100\n",
            "1/1 [==============================] - ETA: 0s - loss: 89.9750 - mae: 89.9750INFO:tensorflow:Assets written to: model_experiments/model_1_dense/assets\n",
            "1/1 [==============================] - 0s 496ms/step - loss: 89.9750 - mae: 89.9750 - val_loss: 172.7091 - val_mae: 172.7091\n",
            "Epoch 9/100\n",
            "1/1 [==============================] - ETA: 0s - loss: 77.5392 - mae: 77.5392INFO:tensorflow:Assets written to: model_experiments/model_1_dense/assets\n",
            "1/1 [==============================] - 0s 497ms/step - loss: 77.5392 - mae: 77.5392 - val_loss: 146.0530 - val_mae: 146.0530\n",
            "Epoch 10/100\n",
            "1/1 [==============================] - ETA: 0s - loss: 66.9479 - mae: 66.9479INFO:tensorflow:Assets written to: model_experiments/model_1_dense/assets\n",
            "1/1 [==============================] - 0s 496ms/step - loss: 66.9479 - mae: 66.9479 - val_loss: 120.1071 - val_mae: 120.1071\n",
            "Epoch 11/100\n",
            "1/1 [==============================] - ETA: 0s - loss: 59.7165 - mae: 59.7165INFO:tensorflow:Assets written to: model_experiments/model_1_dense/assets\n",
            "1/1 [==============================] - 1s 511ms/step - loss: 59.7165 - mae: 59.7165 - val_loss: 101.5153 - val_mae: 101.5153\n",
            "Epoch 12/100\n",
            "1/1 [==============================] - ETA: 0s - loss: 53.7232 - mae: 53.7232INFO:tensorflow:Assets written to: model_experiments/model_1_dense/assets\n",
            "1/1 [==============================] - 0s 486ms/step - loss: 53.7232 - mae: 53.7232 - val_loss: 93.4392 - val_mae: 93.4392\n",
            "Epoch 13/100\n",
            "1/1 [==============================] - ETA: 0s - loss: 51.5341 - mae: 51.5341INFO:tensorflow:Assets written to: model_experiments/model_1_dense/assets\n",
            "1/1 [==============================] - 1s 681ms/step - loss: 51.5341 - mae: 51.5341 - val_loss: 86.0179 - val_mae: 86.0179\n",
            "Epoch 14/100\n",
            "1/1 [==============================] - ETA: 0s - loss: 51.9451 - mae: 51.9451INFO:tensorflow:Assets written to: model_experiments/model_1_dense/assets\n",
            "1/1 [==============================] - 0s 474ms/step - loss: 51.9451 - mae: 51.9451 - val_loss: 81.9521 - val_mae: 81.9521\n",
            "Epoch 15/100\n",
            "1/1 [==============================] - 0s 32ms/step - loss: 52.7199 - mae: 52.7199 - val_loss: 82.3519 - val_mae: 82.3519\n",
            "Epoch 16/100\n",
            "1/1 [==============================] - 0s 39ms/step - loss: 53.5972 - mae: 53.5972 - val_loss: 82.7518 - val_mae: 82.7518\n",
            "Epoch 17/100\n",
            "1/1 [==============================] - 0s 41ms/step - loss: 56.3744 - mae: 56.3744 - val_loss: 83.0661 - val_mae: 83.0661\n",
            "Epoch 18/100\n",
            "1/1 [==============================] - 0s 33ms/step - loss: 58.6593 - mae: 58.6593 - val_loss: 83.3834 - val_mae: 83.3834\n",
            "Epoch 19/100\n",
            "1/1 [==============================] - 0s 37ms/step - loss: 60.4506 - mae: 60.4506 - val_loss: 85.0323 - val_mae: 85.0323\n",
            "Epoch 20/100\n",
            "1/1 [==============================] - 0s 34ms/step - loss: 61.4101 - mae: 61.4101 - val_loss: 85.5730 - val_mae: 85.5730\n",
            "Epoch 21/100\n",
            "1/1 [==============================] - 0s 34ms/step - loss: 61.7152 - mae: 61.7152 - val_loss: 84.9536 - val_mae: 84.9536\n",
            "Epoch 22/100\n",
            "1/1 [==============================] - 0s 35ms/step - loss: 61.0957 - mae: 61.0957 - val_loss: 83.9626 - val_mae: 83.9626\n",
            "Epoch 23/100\n",
            "1/1 [==============================] - 0s 36ms/step - loss: 59.8806 - mae: 59.8806 - val_loss: 84.0398 - val_mae: 84.0398\n",
            "Epoch 24/100\n",
            "1/1 [==============================] - 0s 33ms/step - loss: 58.2294 - mae: 58.2294 - val_loss: 84.1029 - val_mae: 84.1029\n",
            "Epoch 25/100\n",
            "1/1 [==============================] - 0s 38ms/step - loss: 56.5091 - mae: 56.5091 - val_loss: 84.1411 - val_mae: 84.1411\n",
            "Epoch 26/100\n",
            "1/1 [==============================] - 0s 42ms/step - loss: 54.5869 - mae: 54.5869 - val_loss: 84.1441 - val_mae: 84.1441\n",
            "Epoch 27/100\n",
            "1/1 [==============================] - 0s 39ms/step - loss: 52.4801 - mae: 52.4801 - val_loss: 84.0730 - val_mae: 84.0730\n",
            "Epoch 28/100\n",
            "1/1 [==============================] - 0s 33ms/step - loss: 51.2520 - mae: 51.2520 - val_loss: 84.0321 - val_mae: 84.0321\n",
            "Epoch 29/100\n",
            "1/1 [==============================] - 0s 60ms/step - loss: 50.6322 - mae: 50.6322 - val_loss: 84.0358 - val_mae: 84.0358\n",
            "Epoch 30/100\n",
            "1/1 [==============================] - 0s 51ms/step - loss: 50.0264 - mae: 50.0264 - val_loss: 85.8038 - val_mae: 85.8038\n",
            "Epoch 31/100\n",
            "1/1 [==============================] - 0s 35ms/step - loss: 49.5337 - mae: 49.5337 - val_loss: 88.4858 - val_mae: 88.4858\n",
            "Epoch 32/100\n",
            "1/1 [==============================] - 0s 39ms/step - loss: 49.2752 - mae: 49.2752 - val_loss: 90.8945 - val_mae: 90.8945\n",
            "Epoch 33/100\n",
            "1/1 [==============================] - 0s 34ms/step - loss: 49.0567 - mae: 49.0567 - val_loss: 92.8861 - val_mae: 92.8861\n",
            "Epoch 34/100\n",
            "1/1 [==============================] - 0s 39ms/step - loss: 49.1761 - mae: 49.1761 - val_loss: 94.4724 - val_mae: 94.4724\n",
            "Epoch 35/100\n",
            "1/1 [==============================] - 0s 36ms/step - loss: 49.2452 - mae: 49.2452 - val_loss: 95.7111 - val_mae: 95.7111\n",
            "Epoch 36/100\n",
            "1/1 [==============================] - 0s 33ms/step - loss: 49.2658 - mae: 49.2658 - val_loss: 96.6133 - val_mae: 96.6133\n",
            "Epoch 37/100\n",
            "1/1 [==============================] - 0s 36ms/step - loss: 49.5744 - mae: 49.5744 - val_loss: 96.8350 - val_mae: 96.8350\n",
            "Epoch 38/100\n",
            "1/1 [==============================] - 0s 35ms/step - loss: 49.7006 - mae: 49.7006 - val_loss: 96.4335 - val_mae: 96.4335\n",
            "Epoch 39/100\n",
            "1/1 [==============================] - 0s 35ms/step - loss: 49.4641 - mae: 49.4641 - val_loss: 95.4744 - val_mae: 95.4744\n",
            "Epoch 40/100\n",
            "1/1 [==============================] - 0s 37ms/step - loss: 48.9373 - mae: 48.9373 - val_loss: 94.0970 - val_mae: 94.0970\n",
            "Epoch 41/100\n",
            "1/1 [==============================] - 0s 43ms/step - loss: 48.3171 - mae: 48.3171 - val_loss: 92.4303 - val_mae: 92.4303\n",
            "Epoch 42/100\n",
            "1/1 [==============================] - 0s 34ms/step - loss: 47.8932 - mae: 47.8932 - val_loss: 90.7183 - val_mae: 90.7183\n",
            "Epoch 43/100\n",
            "1/1 [==============================] - 0s 48ms/step - loss: 47.4995 - mae: 47.4995 - val_loss: 88.8328 - val_mae: 88.8328\n",
            "Epoch 44/100\n",
            "1/1 [==============================] - 0s 33ms/step - loss: 47.0942 - mae: 47.0942 - val_loss: 86.8246 - val_mae: 86.8246\n",
            "Epoch 45/100\n",
            "1/1 [==============================] - 0s 37ms/step - loss: 46.6751 - mae: 46.6751 - val_loss: 85.2004 - val_mae: 85.2004\n",
            "Epoch 46/100\n",
            "1/1 [==============================] - 0s 38ms/step - loss: 46.2444 - mae: 46.2444 - val_loss: 85.1448 - val_mae: 85.1448\n",
            "Epoch 47/100\n",
            "1/1 [==============================] - 0s 36ms/step - loss: 46.0193 - mae: 46.0193 - val_loss: 85.0828 - val_mae: 85.0828\n",
            "Epoch 48/100\n",
            "1/1 [==============================] - 0s 33ms/step - loss: 45.7824 - mae: 45.7824 - val_loss: 84.9829 - val_mae: 84.9829\n",
            "Epoch 49/100\n",
            "1/1 [==============================] - 0s 37ms/step - loss: 45.5623 - mae: 45.5623 - val_loss: 84.8790 - val_mae: 84.8790\n",
            "Epoch 50/100\n",
            "1/1 [==============================] - 0s 40ms/step - loss: 45.3409 - mae: 45.3409 - val_loss: 84.8497 - val_mae: 84.8497\n",
            "Epoch 51/100\n",
            "1/1 [==============================] - 0s 34ms/step - loss: 45.1185 - mae: 45.1185 - val_loss: 84.9216 - val_mae: 84.9216\n",
            "Epoch 52/100\n",
            "1/1 [==============================] - 0s 33ms/step - loss: 44.9313 - mae: 44.9313 - val_loss: 84.9813 - val_mae: 84.9813\n",
            "Epoch 53/100\n",
            "1/1 [==============================] - 0s 43ms/step - loss: 44.8526 - mae: 44.8526 - val_loss: 84.9961 - val_mae: 84.9961\n",
            "Epoch 54/100\n",
            "1/1 [==============================] - 0s 37ms/step - loss: 44.7393 - mae: 44.7393 - val_loss: 84.9783 - val_mae: 84.9783\n",
            "Epoch 55/100\n",
            "1/1 [==============================] - 0s 35ms/step - loss: 44.4301 - mae: 44.4301 - val_loss: 84.9335 - val_mae: 84.9335\n",
            "Epoch 56/100\n",
            "1/1 [==============================] - 0s 37ms/step - loss: 44.1808 - mae: 44.1808 - val_loss: 84.8699 - val_mae: 84.8699\n",
            "Epoch 57/100\n",
            "1/1 [==============================] - 0s 33ms/step - loss: 43.9948 - mae: 43.9948 - val_loss: 84.7263 - val_mae: 84.7263\n",
            "Epoch 58/100\n",
            "1/1 [==============================] - 0s 37ms/step - loss: 43.7903 - mae: 43.7903 - val_loss: 84.6506 - val_mae: 84.6506\n",
            "Epoch 59/100\n",
            "1/1 [==============================] - 0s 38ms/step - loss: 43.5973 - mae: 43.5973 - val_loss: 84.5828 - val_mae: 84.5828\n",
            "Epoch 60/100\n",
            "1/1 [==============================] - 0s 35ms/step - loss: 43.4003 - mae: 43.4003 - val_loss: 84.5061 - val_mae: 84.5061\n",
            "Epoch 61/100\n",
            "1/1 [==============================] - 0s 36ms/step - loss: 43.2030 - mae: 43.2030 - val_loss: 84.4610 - val_mae: 84.4610\n",
            "Epoch 62/100\n",
            "1/1 [==============================] - 0s 39ms/step - loss: 43.1026 - mae: 43.1026 - val_loss: 84.4314 - val_mae: 84.4314\n",
            "Epoch 63/100\n",
            "1/1 [==============================] - 0s 32ms/step - loss: 42.9587 - mae: 42.9587 - val_loss: 84.3947 - val_mae: 84.3947\n",
            "Epoch 64/100\n",
            "1/1 [==============================] - 0s 43ms/step - loss: 42.7715 - mae: 42.7715 - val_loss: 84.3483 - val_mae: 84.3483\n",
            "Epoch 65/100\n",
            "1/1 [==============================] - 0s 47ms/step - loss: 42.5502 - mae: 42.5502 - val_loss: 84.3263 - val_mae: 84.3263\n",
            "Epoch 66/100\n",
            "1/1 [==============================] - 0s 41ms/step - loss: 42.2921 - mae: 42.2921 - val_loss: 84.3625 - val_mae: 84.3625\n",
            "Epoch 67/100\n",
            "1/1 [==============================] - 0s 44ms/step - loss: 42.0484 - mae: 42.0484 - val_loss: 84.4454 - val_mae: 84.4454\n",
            "Epoch 68/100\n",
            "1/1 [==============================] - 0s 33ms/step - loss: 41.8622 - mae: 41.8622 - val_loss: 84.5194 - val_mae: 84.5194\n",
            "Epoch 69/100\n",
            "1/1 [==============================] - 0s 36ms/step - loss: 41.7250 - mae: 41.7250 - val_loss: 84.5260 - val_mae: 84.5260\n",
            "Epoch 70/100\n",
            "1/1 [==============================] - 0s 35ms/step - loss: 41.4699 - mae: 41.4699 - val_loss: 84.4921 - val_mae: 84.4921\n",
            "Epoch 71/100\n",
            "1/1 [==============================] - 0s 33ms/step - loss: 41.3222 - mae: 41.3222 - val_loss: 84.4355 - val_mae: 84.4355\n",
            "Epoch 72/100\n",
            "1/1 [==============================] - 0s 37ms/step - loss: 41.1702 - mae: 41.1702 - val_loss: 84.4119 - val_mae: 84.4119\n",
            "Epoch 73/100\n",
            "1/1 [==============================] - 0s 43ms/step - loss: 41.0127 - mae: 41.0127 - val_loss: 84.4107 - val_mae: 84.4107\n",
            "Epoch 74/100\n",
            "1/1 [==============================] - 0s 41ms/step - loss: 40.8504 - mae: 40.8504 - val_loss: 84.4529 - val_mae: 84.4529\n",
            "Epoch 75/100\n",
            "1/1 [==============================] - 0s 35ms/step - loss: 40.7057 - mae: 40.7057 - val_loss: 84.6915 - val_mae: 84.6915\n",
            "Epoch 76/100\n",
            "1/1 [==============================] - 0s 39ms/step - loss: 40.5433 - mae: 40.5433 - val_loss: 84.9514 - val_mae: 84.9514\n",
            "Epoch 77/100\n",
            "1/1 [==============================] - 0s 35ms/step - loss: 40.3895 - mae: 40.3895 - val_loss: 85.2186 - val_mae: 85.2186\n",
            "Epoch 78/100\n",
            "1/1 [==============================] - 0s 39ms/step - loss: 40.2423 - mae: 40.2423 - val_loss: 85.4799 - val_mae: 85.4799\n",
            "Epoch 79/100\n",
            "1/1 [==============================] - 0s 37ms/step - loss: 40.0931 - mae: 40.0931 - val_loss: 85.7175 - val_mae: 85.7175\n",
            "Epoch 80/100\n",
            "1/1 [==============================] - 0s 36ms/step - loss: 39.9571 - mae: 39.9571 - val_loss: 86.2697 - val_mae: 86.2697\n",
            "Epoch 81/100\n",
            "1/1 [==============================] - 0s 35ms/step - loss: 39.7839 - mae: 39.7839 - val_loss: 86.7785 - val_mae: 86.7785\n",
            "Epoch 82/100\n",
            "1/1 [==============================] - 0s 38ms/step - loss: 39.6648 - mae: 39.6648 - val_loss: 87.0783 - val_mae: 87.0783\n",
            "Epoch 83/100\n",
            "1/1 [==============================] - 0s 36ms/step - loss: 39.5436 - mae: 39.5436 - val_loss: 87.1360 - val_mae: 87.1360\n",
            "Epoch 84/100\n",
            "1/1 [==============================] - 0s 33ms/step - loss: 39.4053 - mae: 39.4053 - val_loss: 86.9849 - val_mae: 86.9849\n",
            "Epoch 85/100\n",
            "1/1 [==============================] - 0s 39ms/step - loss: 39.3042 - mae: 39.3042 - val_loss: 86.9605 - val_mae: 86.9605\n",
            "Epoch 86/100\n",
            "1/1 [==============================] - 0s 40ms/step - loss: 39.2137 - mae: 39.2137 - val_loss: 87.0403 - val_mae: 87.0403\n",
            "Epoch 87/100\n",
            "1/1 [==============================] - 0s 34ms/step - loss: 39.1083 - mae: 39.1083 - val_loss: 87.2651 - val_mae: 87.2651\n",
            "Epoch 88/100\n",
            "1/1 [==============================] - 0s 33ms/step - loss: 38.9971 - mae: 38.9971 - val_loss: 87.6655 - val_mae: 87.6655\n",
            "Epoch 89/100\n",
            "1/1 [==============================] - 0s 33ms/step - loss: 39.0294 - mae: 39.0294 - val_loss: 87.6502 - val_mae: 87.6502\n",
            "Epoch 90/100\n",
            "1/1 [==============================] - 0s 36ms/step - loss: 38.8715 - mae: 38.8715 - val_loss: 87.2374 - val_mae: 87.2374\n",
            "Epoch 91/100\n",
            "1/1 [==============================] - 0s 47ms/step - loss: 38.7687 - mae: 38.7687 - val_loss: 87.0794 - val_mae: 87.0794\n",
            "Epoch 92/100\n",
            "1/1 [==============================] - 0s 37ms/step - loss: 38.7247 - mae: 38.7247 - val_loss: 87.1420 - val_mae: 87.1420\n",
            "Epoch 93/100\n",
            "1/1 [==============================] - 0s 35ms/step - loss: 38.6629 - mae: 38.6629 - val_loss: 87.3740 - val_mae: 87.3740\n",
            "Epoch 94/100\n",
            "1/1 [==============================] - 0s 34ms/step - loss: 38.5867 - mae: 38.5867 - val_loss: 87.7520 - val_mae: 87.7520\n",
            "Epoch 95/100\n",
            "1/1 [==============================] - 0s 35ms/step - loss: 38.4915 - mae: 38.4915 - val_loss: 88.2552 - val_mae: 88.2552\n",
            "Epoch 96/100\n",
            "1/1 [==============================] - 0s 34ms/step - loss: 38.3672 - mae: 38.3672 - val_loss: 88.8739 - val_mae: 88.8739\n",
            "Epoch 97/100\n",
            "1/1 [==============================] - 0s 34ms/step - loss: 38.2188 - mae: 38.2188 - val_loss: 89.5942 - val_mae: 89.5942\n",
            "Epoch 98/100\n",
            "1/1 [==============================] - 0s 36ms/step - loss: 38.2942 - mae: 38.2942 - val_loss: 89.7965 - val_mae: 89.7965\n",
            "Epoch 99/100\n",
            "1/1 [==============================] - 0s 34ms/step - loss: 38.2329 - mae: 38.2329 - val_loss: 89.5269 - val_mae: 89.5269\n",
            "Epoch 100/100\n",
            "1/1 [==============================] - 0s 32ms/step - loss: 37.9861 - mae: 37.9861 - val_loss: 89.1780 - val_mae: 89.1780\n"
          ]
        },
        {
          "output_type": "execute_result",
          "data": {
            "text/plain": [
              "<keras.callbacks.History at 0x7f1ee01cb2d0>"
            ]
          },
          "metadata": {},
          "execution_count": 34
        }
      ]
    },
    {
      "cell_type": "code",
      "source": [
        "# Evaluate model on test data\n",
        "model_1.evaluate(test_windows, test_labels)"
      ],
      "metadata": {
        "colab": {
          "base_uri": "https://localhost:8080/"
        },
        "id": "poZ0_2Ak-bjT",
        "outputId": "06115bd8-6f6c-4e42-b929-1d62b53ea5dd"
      },
      "execution_count": null,
      "outputs": [
        {
          "output_type": "stream",
          "name": "stdout",
          "text": [
            "1/1 [==============================] - 0s 23ms/step - loss: 89.1780 - mae: 89.1780\n"
          ]
        },
        {
          "output_type": "execute_result",
          "data": {
            "text/plain": [
              "[89.1779556274414, 89.1779556274414]"
            ]
          },
          "metadata": {},
          "execution_count": 35
        }
      ]
    },
    {
      "cell_type": "code",
      "source": [
        "def make_preds(model, input_data):\n",
        "  \"\"\"\n",
        "  Uses model to make predictions on input_data.\n",
        "\n",
        "  Parameters\n",
        "  ----------\n",
        "  model: trained model \n",
        "  input_data: windowed input data (same kind of data model was trained on)\n",
        "\n",
        "  Returns model predictions on input_data.\n",
        "  \"\"\"\n",
        "  forecast = model.predict(input_data)\n",
        "  return tf.squeeze(forecast) # return 1D array of predictions"
      ],
      "metadata": {
        "id": "djbfXSv--ipi"
      },
      "execution_count": null,
      "outputs": []
    },
    {
      "cell_type": "code",
      "source": [
        "# Make predictions using model_1 on the test dataset and view the results\n",
        "model_1_preds = make_preds(model_1, test_windows)\n",
        "len(model_1_preds), model_1_preds[:10]"
      ],
      "metadata": {
        "colab": {
          "base_uri": "https://localhost:8080/"
        },
        "id": "9PA0XsYF-sqd",
        "outputId": "cfa43e44-9faa-4d89-831f-59d9f948f67d"
      },
      "execution_count": null,
      "outputs": [
        {
          "output_type": "execute_result",
          "data": {
            "text/plain": [
              "(6, <tf.Tensor: shape=(6,), dtype=float32, numpy=\n",
              " array([416.40817, 453.16907, 536.4309 , 459.60092, 627.9602 , 524.4216 ],\n",
              "       dtype=float32)>)"
            ]
          },
          "metadata": {},
          "execution_count": 37
        }
      ]
    },
    {
      "cell_type": "code",
      "source": [
        "HORIZON = 1 # predict one step at a time\n",
        "WINDOW_SIZE = 7 # use 30 timesteps in the past"
      ],
      "metadata": {
        "id": "fL_oHxJY_KFk"
      },
      "execution_count": null,
      "outputs": []
    },
    {
      "cell_type": "code",
      "source": [
        "# Make windowed data with appropriate horizon and window sizes\n",
        "full_windows, full_labels = make_windows(sales, window_size=WINDOW_SIZE, horizon=HORIZON)\n",
        "len(full_windows), len(full_labels)"
      ],
      "metadata": {
        "colab": {
          "base_uri": "https://localhost:8080/"
        },
        "id": "oT3DkHbI_W5F",
        "outputId": "07883b9a-467a-4330-d2ea-5d71e1d7147c"
      },
      "execution_count": null,
      "outputs": [
        {
          "output_type": "execute_result",
          "data": {
            "text/plain": [
              "(29, 29)"
            ]
          },
          "metadata": {},
          "execution_count": 39
        }
      ]
    },
    {
      "cell_type": "code",
      "source": [
        "# Make train and testing windows\n",
        "train_windows, test_windows, train_labels, test_labels = make_train_test_splits(windows=full_windows, labels=full_labels)\n",
        "len(train_windows), len(test_windows), len(train_labels), len(test_labels)"
      ],
      "metadata": {
        "colab": {
          "base_uri": "https://localhost:8080/"
        },
        "id": "FdkHof6k_Yus",
        "outputId": "455a9167-746e-4f4d-bf5f-33e8b805435d"
      },
      "execution_count": null,
      "outputs": [
        {
          "output_type": "execute_result",
          "data": {
            "text/plain": [
              "(23, 6, 23, 6)"
            ]
          },
          "metadata": {},
          "execution_count": 40
        }
      ]
    },
    {
      "cell_type": "code",
      "source": [
        "from tensorflow.keras.layers import Bidirectional, LSTM, GRU"
      ],
      "metadata": {
        "id": "Ft_mTqgGIb8D"
      },
      "execution_count": null,
      "outputs": []
    },
    {
      "cell_type": "code",
      "source": [
        "# tf.random.set_seed(42)\n",
        "\n",
        "# inputs = layers.Input(shape=(WINDOW_SIZE))\n",
        "# x = layers.Lambda(lambda x: tf.expand_dims(x, axis=1))(inputs) \n",
        "# # print(x.shape)\n",
        "# x = layers.Bidirectional(LSTM(64, activation=\"relu\", return_sequences=True))(x)\n",
        "# x = layers.Bidirectional(LSTM(128, activation=\"relu\"))(x) \n",
        "# # print(x.shape)\n",
        "# x = layers.Dense(32, activation=\"relu\")(x)\n",
        "# output = layers.Dense(HORIZON)(x)\n",
        "# model_2 = tf.keras.Model(inputs=inputs, outputs=output, name=\"model_5_lstm\")\n",
        "\n",
        "# # Compile model\n",
        "# model_2.compile(loss=\"mae\",\n",
        "#                 optimizer=tf.keras.optimizers.Adam())\n",
        "\n",
        "\n",
        "# model_2.fit(train_windows,\n",
        "#             train_labels,\n",
        "#             epochs=20,\n",
        "#             batch_size=128,\n",
        "#             validation_data=(test_windows, test_labels),\n",
        "#             callbacks=[create_model_checkpoint(model_name=model_2.name)])\n",
        "\n",
        "import tensorflow as tf\n",
        "from tensorflow.keras import layers\n",
        "\n",
        "# Set random seed for as reproducible results as possible\n",
        "tf.random.set_seed(42)\n",
        "\n",
        "# Construct model\n",
        "model_2 = tf.keras.Sequential([\n",
        "  layers.Dense(16, activation=\"relu\"),\n",
        "  layers.Dense(32, activation='relu'),\n",
        "  layers.Dense(64, activation='relu'),\n",
        "  layers.Dropout(0.2),\n",
        "  #layers.GaussianNoise(0.6),\n",
        "  #layers.Dense(128, activation='relu'),\n",
        "  layers.Dense(HORIZON, activation=\"relu\") # linear activation is the same as having no activation                        \n",
        "], name=\"model_2_dense\") # give the model a name so we can save it\n",
        "\n",
        "# Compile model\n",
        "optimizer = 'rmsprop'\n",
        "model_2.compile(loss=\"huber\",\n",
        "                optimizer=tf.keras.optimizers.Adam(),\n",
        "                metrics=[\"mae\"]) \n",
        "\n",
        "\n",
        "# Fit model\n",
        "model_2.fit(x=train_windows, # train windows of 7 timesteps of Bitcoin prices\n",
        "            y=train_labels, # horizon value of 1 (using the previous 7 timesteps to predict next day)\n",
        "            epochs=200,\n",
        "            verbose=1,\n",
        "            batch_size=128,\n",
        "            validation_data=(test_windows, test_labels),\n",
        "            callbacks=[create_model_checkpoint(model_name=model_1.name)]) # create ModelCheckpoint callback to save best model"
      ],
      "metadata": {
        "colab": {
          "base_uri": "https://localhost:8080/"
        },
        "id": "WrlcN9ds_cTA",
        "outputId": "9198f1ab-f372-47e7-c812-c26838296135"
      },
      "execution_count": null,
      "outputs": [
        {
          "output_type": "stream",
          "name": "stdout",
          "text": [
            "Epoch 1/200\n",
            "1/1 [==============================] - ETA: 0s - loss: 222.2448 - mae: 222.7448INFO:tensorflow:Assets written to: model_experiments/model_1_dense/assets\n"
          ]
        },
        {
          "output_type": "stream",
          "name": "stderr",
          "text": [
            "INFO:tensorflow:Assets written to: model_experiments/model_1_dense/assets\n"
          ]
        },
        {
          "output_type": "stream",
          "name": "stdout",
          "text": [
            "\b\b\b\b\b\b\b\b\b\b\b\b\b\b\b\b\b\b\b\b\b\b\b\b\b\b\b\b\b\b\b\b\b\b\b\b\b\b\b\b\b\b\b\b\b\b\b\b\b\b\b\b\b\b\b\b\b\b\b\b\b\b\b\b\b\b\b\b\b\b\b\b\b\b\b\b\b\b\b\r1/1 [==============================] - 3s 3s/step - loss: 222.2448 - mae: 222.7448 - val_loss: 424.8860 - val_mae: 425.3860\n",
            "Epoch 2/200\n",
            "1/1 [==============================] - ETA: 0s - loss: 214.6814 - mae: 215.1814INFO:tensorflow:Assets written to: model_experiments/model_1_dense/assets\n"
          ]
        },
        {
          "output_type": "stream",
          "name": "stderr",
          "text": [
            "INFO:tensorflow:Assets written to: model_experiments/model_1_dense/assets\n"
          ]
        },
        {
          "output_type": "stream",
          "name": "stdout",
          "text": [
            "\b\b\b\b\b\b\b\b\b\b\b\b\b\b\b\b\b\b\b\b\b\b\b\b\b\b\b\b\b\b\b\b\b\b\b\b\b\b\b\b\b\b\b\b\b\b\b\b\b\b\b\b\b\b\b\b\b\b\b\b\b\b\b\b\b\b\b\b\b\b\b\b\b\b\b\b\b\b\b\r1/1 [==============================] - 2s 2s/step - loss: 214.6814 - mae: 215.1814 - val_loss: 401.4157 - val_mae: 401.9157\n",
            "Epoch 3/200\n",
            "1/1 [==============================] - ETA: 0s - loss: 194.9188 - mae: 195.4188INFO:tensorflow:Assets written to: model_experiments/model_1_dense/assets\n"
          ]
        },
        {
          "output_type": "stream",
          "name": "stderr",
          "text": [
            "INFO:tensorflow:Assets written to: model_experiments/model_1_dense/assets\n"
          ]
        },
        {
          "output_type": "stream",
          "name": "stdout",
          "text": [
            "\b\b\b\b\b\b\b\b\b\b\b\b\b\b\b\b\b\b\b\b\b\b\b\b\b\b\b\b\b\b\b\b\b\b\b\b\b\b\b\b\b\b\b\b\b\b\b\b\b\b\b\b\b\b\b\b\b\b\b\b\b\b\b\b\b\b\b\b\b\b\b\b\b\b\b\b\b\b\b\r1/1 [==============================] - 1s 1s/step - loss: 194.9188 - mae: 195.4188 - val_loss: 377.4644 - val_mae: 377.9644\n",
            "Epoch 4/200\n",
            "1/1 [==============================] - ETA: 0s - loss: 178.1712 - mae: 178.6712INFO:tensorflow:Assets written to: model_experiments/model_1_dense/assets\n"
          ]
        },
        {
          "output_type": "stream",
          "name": "stderr",
          "text": [
            "INFO:tensorflow:Assets written to: model_experiments/model_1_dense/assets\n"
          ]
        },
        {
          "output_type": "stream",
          "name": "stdout",
          "text": [
            "\b\b\b\b\b\b\b\b\b\b\b\b\b\b\b\b\b\b\b\b\b\b\b\b\b\b\b\b\b\b\b\b\b\b\b\b\b\b\b\b\b\b\b\b\b\b\b\b\b\b\b\b\b\b\b\b\b\b\b\b\b\b\b\b\b\b\b\b\b\b\b\b\b\b\b\b\b\b\b\r1/1 [==============================] - 1s 854ms/step - loss: 178.1712 - mae: 178.6712 - val_loss: 352.5040 - val_mae: 353.0040\n",
            "Epoch 5/200\n",
            "1/1 [==============================] - ETA: 0s - loss: 178.9437 - mae: 179.4437INFO:tensorflow:Assets written to: model_experiments/model_1_dense/assets\n"
          ]
        },
        {
          "output_type": "stream",
          "name": "stderr",
          "text": [
            "INFO:tensorflow:Assets written to: model_experiments/model_1_dense/assets\n"
          ]
        },
        {
          "output_type": "stream",
          "name": "stdout",
          "text": [
            "\b\b\b\b\b\b\b\b\b\b\b\b\b\b\b\b\b\b\b\b\b\b\b\b\b\b\b\b\b\b\b\b\b\b\b\b\b\b\b\b\b\b\b\b\b\b\b\b\b\b\b\b\b\b\b\b\b\b\b\b\b\b\b\b\b\b\b\b\b\b\b\b\b\b\b\b\b\b\b\r1/1 [==============================] - 1s 850ms/step - loss: 178.9437 - mae: 179.4437 - val_loss: 326.8222 - val_mae: 327.3222\n",
            "Epoch 6/200\n",
            "1/1 [==============================] - ETA: 0s - loss: 152.7098 - mae: 153.2098INFO:tensorflow:Assets written to: model_experiments/model_1_dense/assets\n"
          ]
        },
        {
          "output_type": "stream",
          "name": "stderr",
          "text": [
            "INFO:tensorflow:Assets written to: model_experiments/model_1_dense/assets\n"
          ]
        },
        {
          "output_type": "stream",
          "name": "stdout",
          "text": [
            "\b\b\b\b\b\b\b\b\b\b\b\b\b\b\b\b\b\b\b\b\b\b\b\b\b\b\b\b\b\b\b\b\b\b\b\b\b\b\b\b\b\b\b\b\b\b\b\b\b\b\b\b\b\b\b\b\b\b\b\b\b\b\b\b\b\b\b\b\b\b\b\b\b\b\b\b\b\b\b\r1/1 [==============================] - 1s 847ms/step - loss: 152.7098 - mae: 153.2098 - val_loss: 300.2812 - val_mae: 300.7812\n",
            "Epoch 7/200\n",
            "1/1 [==============================] - ETA: 0s - loss: 140.2007 - mae: 140.7007INFO:tensorflow:Assets written to: model_experiments/model_1_dense/assets\n"
          ]
        },
        {
          "output_type": "stream",
          "name": "stderr",
          "text": [
            "INFO:tensorflow:Assets written to: model_experiments/model_1_dense/assets\n"
          ]
        },
        {
          "output_type": "stream",
          "name": "stdout",
          "text": [
            "\b\b\b\b\b\b\b\b\b\b\b\b\b\b\b\b\b\b\b\b\b\b\b\b\b\b\b\b\b\b\b\b\b\b\b\b\b\b\b\b\b\b\b\b\b\b\b\b\b\b\b\b\b\b\b\b\b\b\b\b\b\b\b\b\b\b\b\b\b\b\b\b\b\b\b\b\b\b\b\r1/1 [==============================] - 1s 868ms/step - loss: 140.2007 - mae: 140.7007 - val_loss: 273.1070 - val_mae: 273.6070\n",
            "Epoch 8/200\n",
            "1/1 [==============================] - ETA: 0s - loss: 124.2705 - mae: 124.7705INFO:tensorflow:Assets written to: model_experiments/model_1_dense/assets\n"
          ]
        },
        {
          "output_type": "stream",
          "name": "stderr",
          "text": [
            "INFO:tensorflow:Assets written to: model_experiments/model_1_dense/assets\n"
          ]
        },
        {
          "output_type": "stream",
          "name": "stdout",
          "text": [
            "\b\b\b\b\b\b\b\b\b\b\b\b\b\b\b\b\b\b\b\b\b\b\b\b\b\b\b\b\b\b\b\b\b\b\b\b\b\b\b\b\b\b\b\b\b\b\b\b\b\b\b\b\b\b\b\b\b\b\b\b\b\b\b\b\b\b\b\b\b\b\b\b\b\b\b\b\b\b\b\r1/1 [==============================] - 1s 862ms/step - loss: 124.2705 - mae: 124.7705 - val_loss: 244.9643 - val_mae: 245.4643\n",
            "Epoch 9/200\n",
            "1/1 [==============================] - ETA: 0s - loss: 116.6414 - mae: 117.1414INFO:tensorflow:Assets written to: model_experiments/model_1_dense/assets\n"
          ]
        },
        {
          "output_type": "stream",
          "name": "stderr",
          "text": [
            "INFO:tensorflow:Assets written to: model_experiments/model_1_dense/assets\n"
          ]
        },
        {
          "output_type": "stream",
          "name": "stdout",
          "text": [
            "\b\b\b\b\b\b\b\b\b\b\b\b\b\b\b\b\b\b\b\b\b\b\b\b\b\b\b\b\b\b\b\b\b\b\b\b\b\b\b\b\b\b\b\b\b\b\b\b\b\b\b\b\b\b\b\b\b\b\b\b\b\b\b\b\b\b\b\b\b\b\b\b\b\b\b\b\b\b\b\r1/1 [==============================] - 1s 874ms/step - loss: 116.6414 - mae: 117.1414 - val_loss: 215.7492 - val_mae: 216.2492\n",
            "Epoch 10/200\n",
            "1/1 [==============================] - ETA: 0s - loss: 95.5691 - mae: 96.0691INFO:tensorflow:Assets written to: model_experiments/model_1_dense/assets\n"
          ]
        },
        {
          "output_type": "stream",
          "name": "stderr",
          "text": [
            "INFO:tensorflow:Assets written to: model_experiments/model_1_dense/assets\n"
          ]
        },
        {
          "output_type": "stream",
          "name": "stdout",
          "text": [
            "\b\b\b\b\b\b\b\b\b\b\b\b\b\b\b\b\b\b\b\b\b\b\b\b\b\b\b\b\b\b\b\b\b\b\b\b\b\b\b\b\b\b\b\b\b\b\b\b\b\b\b\b\b\b\b\b\b\b\b\b\b\b\b\b\b\b\b\b\b\b\b\b\b\b\b\b\b\r1/1 [==============================] - 1s 858ms/step - loss: 95.5691 - mae: 96.0691 - val_loss: 186.1819 - val_mae: 186.6819\n",
            "Epoch 11/200\n",
            "1/1 [==============================] - ETA: 0s - loss: 94.8811 - mae: 95.3811INFO:tensorflow:Assets written to: model_experiments/model_1_dense/assets\n"
          ]
        },
        {
          "output_type": "stream",
          "name": "stderr",
          "text": [
            "INFO:tensorflow:Assets written to: model_experiments/model_1_dense/assets\n"
          ]
        },
        {
          "output_type": "stream",
          "name": "stdout",
          "text": [
            "\b\b\b\b\b\b\b\b\b\b\b\b\b\b\b\b\b\b\b\b\b\b\b\b\b\b\b\b\b\b\b\b\b\b\b\b\b\b\b\b\b\b\b\b\b\b\b\b\b\b\b\b\b\b\b\b\b\b\b\b\b\b\b\b\b\b\b\b\b\b\b\b\b\b\b\b\b\r1/1 [==============================] - 1s 842ms/step - loss: 94.8811 - mae: 95.3811 - val_loss: 156.5235 - val_mae: 157.0235\n",
            "Epoch 12/200\n",
            "1/1 [==============================] - ETA: 0s - loss: 76.3076 - mae: 76.8076INFO:tensorflow:Assets written to: model_experiments/model_1_dense/assets\n"
          ]
        },
        {
          "output_type": "stream",
          "name": "stderr",
          "text": [
            "INFO:tensorflow:Assets written to: model_experiments/model_1_dense/assets\n"
          ]
        },
        {
          "output_type": "stream",
          "name": "stdout",
          "text": [
            "\b\b\b\b\b\b\b\b\b\b\b\b\b\b\b\b\b\b\b\b\b\b\b\b\b\b\b\b\b\b\b\b\b\b\b\b\b\b\b\b\b\b\b\b\b\b\b\b\b\b\b\b\b\b\b\b\b\b\b\b\b\b\b\b\b\b\b\b\b\b\b\b\b\b\b\b\b\r1/1 [==============================] - 1s 850ms/step - loss: 76.3076 - mae: 76.8076 - val_loss: 129.9564 - val_mae: 130.4564\n",
            "Epoch 13/200\n",
            "1/1 [==============================] - ETA: 0s - loss: 62.7159 - mae: 63.2159INFO:tensorflow:Assets written to: model_experiments/model_1_dense/assets\n"
          ]
        },
        {
          "output_type": "stream",
          "name": "stderr",
          "text": [
            "INFO:tensorflow:Assets written to: model_experiments/model_1_dense/assets\n"
          ]
        },
        {
          "output_type": "stream",
          "name": "stdout",
          "text": [
            "\b\b\b\b\b\b\b\b\b\b\b\b\b\b\b\b\b\b\b\b\b\b\b\b\b\b\b\b\b\b\b\b\b\b\b\b\b\b\b\b\b\b\b\b\b\b\b\b\b\b\b\b\b\b\b\b\b\b\b\b\b\b\b\b\b\b\b\b\b\b\b\b\b\b\b\b\b\r1/1 [==============================] - 1s 834ms/step - loss: 62.7159 - mae: 63.2159 - val_loss: 118.9265 - val_mae: 119.4265\n",
            "Epoch 14/200\n",
            "1/1 [==============================] - ETA: 0s - loss: 61.2796 - mae: 61.7682INFO:tensorflow:Assets written to: model_experiments/model_1_dense/assets\n"
          ]
        },
        {
          "output_type": "stream",
          "name": "stderr",
          "text": [
            "INFO:tensorflow:Assets written to: model_experiments/model_1_dense/assets\n"
          ]
        },
        {
          "output_type": "stream",
          "name": "stdout",
          "text": [
            "\b\b\b\b\b\b\b\b\b\b\b\b\b\b\b\b\b\b\b\b\b\b\b\b\b\b\b\b\b\b\b\b\b\b\b\b\b\b\b\b\b\b\b\b\b\b\b\b\b\b\b\b\b\b\b\b\b\b\b\b\b\b\b\b\b\b\b\b\b\b\b\b\b\b\b\b\b\r1/1 [==============================] - 1s 836ms/step - loss: 61.2796 - mae: 61.7682 - val_loss: 109.6781 - val_mae: 110.1781\n",
            "Epoch 15/200\n",
            "1/1 [==============================] - ETA: 0s - loss: 61.4677 - mae: 61.9677INFO:tensorflow:Assets written to: model_experiments/model_1_dense/assets\n"
          ]
        },
        {
          "output_type": "stream",
          "name": "stderr",
          "text": [
            "INFO:tensorflow:Assets written to: model_experiments/model_1_dense/assets\n"
          ]
        },
        {
          "output_type": "stream",
          "name": "stdout",
          "text": [
            "\b\b\b\b\b\b\b\b\b\b\b\b\b\b\b\b\b\b\b\b\b\b\b\b\b\b\b\b\b\b\b\b\b\b\b\b\b\b\b\b\b\b\b\b\b\b\b\b\b\b\b\b\b\b\b\b\b\b\b\b\b\b\b\b\b\b\b\b\b\b\b\b\b\b\b\b\b\r1/1 [==============================] - 1s 867ms/step - loss: 61.4677 - mae: 61.9677 - val_loss: 101.7003 - val_mae: 102.2003\n",
            "Epoch 16/200\n",
            "1/1 [==============================] - ETA: 0s - loss: 80.4972 - mae: 80.9972INFO:tensorflow:Assets written to: model_experiments/model_1_dense/assets\n"
          ]
        },
        {
          "output_type": "stream",
          "name": "stderr",
          "text": [
            "INFO:tensorflow:Assets written to: model_experiments/model_1_dense/assets\n"
          ]
        },
        {
          "output_type": "stream",
          "name": "stdout",
          "text": [
            "\b\b\b\b\b\b\b\b\b\b\b\b\b\b\b\b\b\b\b\b\b\b\b\b\b\b\b\b\b\b\b\b\b\b\b\b\b\b\b\b\b\b\b\b\b\b\b\b\b\b\b\b\b\b\b\b\b\b\b\b\b\b\b\b\b\b\b\b\b\b\b\b\b\b\b\b\b\r1/1 [==============================] - 1s 874ms/step - loss: 80.4972 - mae: 80.9972 - val_loss: 94.9139 - val_mae: 95.4139\n",
            "Epoch 17/200\n",
            "1/1 [==============================] - ETA: 0s - loss: 76.5112 - mae: 77.0112INFO:tensorflow:Assets written to: model_experiments/model_1_dense/assets\n"
          ]
        },
        {
          "output_type": "stream",
          "name": "stderr",
          "text": [
            "INFO:tensorflow:Assets written to: model_experiments/model_1_dense/assets\n"
          ]
        },
        {
          "output_type": "stream",
          "name": "stdout",
          "text": [
            "\b\b\b\b\b\b\b\b\b\b\b\b\b\b\b\b\b\b\b\b\b\b\b\b\b\b\b\b\b\b\b\b\b\b\b\b\b\b\b\b\b\b\b\b\b\b\b\b\b\b\b\b\b\b\b\b\b\b\b\b\b\b\b\b\b\b\b\b\b\b\b\b\b\b\b\b\b\r1/1 [==============================] - 1s 864ms/step - loss: 76.5112 - mae: 77.0112 - val_loss: 93.3287 - val_mae: 93.8287\n",
            "Epoch 18/200\n",
            "1/1 [==============================] - 0s 34ms/step - loss: 64.6179 - mae: 65.1179 - val_loss: 94.1434 - val_mae: 94.6434\n",
            "Epoch 19/200\n",
            "1/1 [==============================] - 0s 35ms/step - loss: 62.8561 - mae: 63.3561 - val_loss: 96.8425 - val_mae: 97.3425\n",
            "Epoch 20/200\n",
            "1/1 [==============================] - 0s 36ms/step - loss: 70.2562 - mae: 70.7562 - val_loss: 98.8031 - val_mae: 99.3031\n",
            "Epoch 21/200\n",
            "1/1 [==============================] - 0s 33ms/step - loss: 62.2354 - mae: 62.7354 - val_loss: 99.2111 - val_mae: 99.7111\n",
            "Epoch 22/200\n",
            "1/1 [==============================] - 0s 32ms/step - loss: 60.2933 - mae: 60.7933 - val_loss: 98.9409 - val_mae: 99.4409\n",
            "Epoch 23/200\n",
            "1/1 [==============================] - 0s 36ms/step - loss: 73.2551 - mae: 73.7551 - val_loss: 97.2318 - val_mae: 97.7318\n",
            "Epoch 24/200\n",
            "1/1 [==============================] - 0s 36ms/step - loss: 67.1030 - mae: 67.6030 - val_loss: 94.5711 - val_mae: 95.0711\n",
            "Epoch 25/200\n",
            "1/1 [==============================] - ETA: 0s - loss: 57.2393 - mae: 57.7382INFO:tensorflow:Assets written to: model_experiments/model_1_dense/assets\n"
          ]
        },
        {
          "output_type": "stream",
          "name": "stderr",
          "text": [
            "INFO:tensorflow:Assets written to: model_experiments/model_1_dense/assets\n"
          ]
        },
        {
          "output_type": "stream",
          "name": "stdout",
          "text": [
            "\b\b\b\b\b\b\b\b\b\b\b\b\b\b\b\b\b\b\b\b\b\b\b\b\b\b\b\b\b\b\b\b\b\b\b\b\b\b\b\b\b\b\b\b\b\b\b\b\b\b\b\b\b\b\b\b\b\b\b\b\b\b\b\b\b\b\b\b\b\b\b\b\b\b\b\b\b\r1/1 [==============================] - 1s 856ms/step - loss: 57.2393 - mae: 57.7382 - val_loss: 93.0360 - val_mae: 93.5360\n",
            "Epoch 26/200\n",
            "1/1 [==============================] - ETA: 0s - loss: 80.6267 - mae: 81.1267INFO:tensorflow:Assets written to: model_experiments/model_1_dense/assets\n"
          ]
        },
        {
          "output_type": "stream",
          "name": "stderr",
          "text": [
            "INFO:tensorflow:Assets written to: model_experiments/model_1_dense/assets\n"
          ]
        },
        {
          "output_type": "stream",
          "name": "stdout",
          "text": [
            "\b\b\b\b\b\b\b\b\b\b\b\b\b\b\b\b\b\b\b\b\b\b\b\b\b\b\b\b\b\b\b\b\b\b\b\b\b\b\b\b\b\b\b\b\b\b\b\b\b\b\b\b\b\b\b\b\b\b\b\b\b\b\b\b\b\b\b\b\b\b\b\b\b\b\b\b\b\r1/1 [==============================] - 1s 858ms/step - loss: 80.6267 - mae: 81.1267 - val_loss: 91.9931 - val_mae: 92.4931\n",
            "Epoch 27/200\n",
            "1/1 [==============================] - ETA: 0s - loss: 58.7696 - mae: 59.2696INFO:tensorflow:Assets written to: model_experiments/model_1_dense/assets\n"
          ]
        },
        {
          "output_type": "stream",
          "name": "stderr",
          "text": [
            "INFO:tensorflow:Assets written to: model_experiments/model_1_dense/assets\n"
          ]
        },
        {
          "output_type": "stream",
          "name": "stdout",
          "text": [
            "\b\b\b\b\b\b\b\b\b\b\b\b\b\b\b\b\b\b\b\b\b\b\b\b\b\b\b\b\b\b\b\b\b\b\b\b\b\b\b\b\b\b\b\b\b\b\b\b\b\b\b\b\b\b\b\b\b\b\b\b\b\b\b\b\b\b\b\b\b\b\b\b\b\b\b\b\b\r1/1 [==============================] - 1s 839ms/step - loss: 58.7696 - mae: 59.2696 - val_loss: 91.4257 - val_mae: 91.9257\n",
            "Epoch 28/200\n",
            "1/1 [==============================] - 0s 35ms/step - loss: 54.3263 - mae: 54.8263 - val_loss: 94.5456 - val_mae: 95.0456\n",
            "Epoch 29/200\n",
            "1/1 [==============================] - 0s 33ms/step - loss: 58.9068 - mae: 59.4068 - val_loss: 97.3708 - val_mae: 97.8708\n",
            "Epoch 30/200\n",
            "1/1 [==============================] - 0s 42ms/step - loss: 55.1862 - mae: 55.6862 - val_loss: 99.9187 - val_mae: 100.4187\n",
            "Epoch 31/200\n",
            "1/1 [==============================] - 0s 39ms/step - loss: 53.5151 - mae: 54.0140 - val_loss: 102.4844 - val_mae: 102.9844\n",
            "Epoch 32/200\n",
            "1/1 [==============================] - 0s 33ms/step - loss: 63.5139 - mae: 64.0139 - val_loss: 105.1012 - val_mae: 105.6012\n",
            "Epoch 33/200\n",
            "1/1 [==============================] - 0s 35ms/step - loss: 80.4244 - mae: 80.9244 - val_loss: 107.5303 - val_mae: 108.0303\n",
            "Epoch 34/200\n",
            "1/1 [==============================] - 0s 38ms/step - loss: 55.2351 - mae: 55.7351 - val_loss: 109.4732 - val_mae: 109.9732\n",
            "Epoch 35/200\n",
            "1/1 [==============================] - 0s 33ms/step - loss: 65.2410 - mae: 65.7410 - val_loss: 110.5197 - val_mae: 111.0197\n",
            "Epoch 36/200\n",
            "1/1 [==============================] - 0s 33ms/step - loss: 64.4636 - mae: 64.9636 - val_loss: 111.2885 - val_mae: 111.7885\n",
            "Epoch 37/200\n",
            "1/1 [==============================] - 0s 36ms/step - loss: 71.6695 - mae: 72.1695 - val_loss: 111.3766 - val_mae: 111.8766\n",
            "Epoch 38/200\n",
            "1/1 [==============================] - 0s 34ms/step - loss: 73.0739 - mae: 73.5739 - val_loss: 110.9323 - val_mae: 111.4323\n",
            "Epoch 39/200\n",
            "1/1 [==============================] - 0s 37ms/step - loss: 56.0146 - mae: 56.5146 - val_loss: 110.1216 - val_mae: 110.6216\n",
            "Epoch 40/200\n",
            "1/1 [==============================] - 0s 35ms/step - loss: 66.6761 - mae: 67.1553 - val_loss: 109.0978 - val_mae: 109.5978\n",
            "Epoch 41/200\n",
            "1/1 [==============================] - 0s 37ms/step - loss: 66.7883 - mae: 67.2883 - val_loss: 107.9450 - val_mae: 108.4450\n",
            "Epoch 42/200\n",
            "1/1 [==============================] - 0s 35ms/step - loss: 65.6005 - mae: 66.1005 - val_loss: 106.4800 - val_mae: 106.9800\n",
            "Epoch 43/200\n",
            "1/1 [==============================] - 0s 35ms/step - loss: 62.2105 - mae: 62.7105 - val_loss: 104.7252 - val_mae: 105.2252\n",
            "Epoch 44/200\n",
            "1/1 [==============================] - 0s 39ms/step - loss: 60.4099 - mae: 60.9099 - val_loss: 102.8970 - val_mae: 103.3970\n",
            "Epoch 45/200\n",
            "1/1 [==============================] - 0s 35ms/step - loss: 68.4999 - mae: 68.9999 - val_loss: 100.3511 - val_mae: 100.8511\n",
            "Epoch 46/200\n",
            "1/1 [==============================] - 0s 36ms/step - loss: 62.4274 - mae: 62.9266 - val_loss: 97.9520 - val_mae: 98.4520\n",
            "Epoch 47/200\n",
            "1/1 [==============================] - 0s 91ms/step - loss: 61.4926 - mae: 61.9926 - val_loss: 95.2009 - val_mae: 95.7009\n",
            "Epoch 48/200\n",
            "1/1 [==============================] - 0s 119ms/step - loss: 53.7919 - mae: 54.2919 - val_loss: 92.4313 - val_mae: 92.9313\n",
            "Epoch 49/200\n",
            "1/1 [==============================] - ETA: 0s - loss: 53.4426 - mae: 53.9426INFO:tensorflow:Assets written to: model_experiments/model_1_dense/assets\n"
          ]
        },
        {
          "output_type": "stream",
          "name": "stderr",
          "text": [
            "INFO:tensorflow:Assets written to: model_experiments/model_1_dense/assets\n"
          ]
        },
        {
          "output_type": "stream",
          "name": "stdout",
          "text": [
            "\b\b\b\b\b\b\b\b\b\b\b\b\b\b\b\b\b\b\b\b\b\b\b\b\b\b\b\b\b\b\b\b\b\b\b\b\b\b\b\b\b\b\b\b\b\b\b\b\b\b\b\b\b\b\b\b\b\b\b\b\b\b\b\b\b\b\b\b\b\b\b\b\b\b\b\b\b\r1/1 [==============================] - 1s 1s/step - loss: 53.4426 - mae: 53.9426 - val_loss: 89.7107 - val_mae: 90.2107\n",
            "Epoch 50/200\n",
            "1/1 [==============================] - ETA: 0s - loss: 54.4020 - mae: 54.9017INFO:tensorflow:Assets written to: model_experiments/model_1_dense/assets\n"
          ]
        },
        {
          "output_type": "stream",
          "name": "stderr",
          "text": [
            "INFO:tensorflow:Assets written to: model_experiments/model_1_dense/assets\n"
          ]
        },
        {
          "output_type": "stream",
          "name": "stdout",
          "text": [
            "\b\b\b\b\b\b\b\b\b\b\b\b\b\b\b\b\b\b\b\b\b\b\b\b\b\b\b\b\b\b\b\b\b\b\b\b\b\b\b\b\b\b\b\b\b\b\b\b\b\b\b\b\b\b\b\b\b\b\b\b\b\b\b\b\b\b\b\b\b\b\b\b\b\b\b\b\b\r1/1 [==============================] - 1s 874ms/step - loss: 54.4020 - mae: 54.9017 - val_loss: 87.2562 - val_mae: 87.7559\n",
            "Epoch 51/200\n",
            "1/1 [==============================] - 0s 33ms/step - loss: 53.1635 - mae: 53.6617 - val_loss: 87.3061 - val_mae: 87.8061\n",
            "Epoch 52/200\n",
            "1/1 [==============================] - 0s 38ms/step - loss: 57.8591 - mae: 58.3591 - val_loss: 87.5775 - val_mae: 88.0775\n",
            "Epoch 53/200\n",
            "1/1 [==============================] - 0s 33ms/step - loss: 63.7773 - mae: 64.2773 - val_loss: 87.7433 - val_mae: 88.2433\n",
            "Epoch 54/200\n",
            "1/1 [==============================] - 0s 32ms/step - loss: 54.4762 - mae: 54.9762 - val_loss: 87.8516 - val_mae: 88.3516\n",
            "Epoch 55/200\n",
            "1/1 [==============================] - 0s 35ms/step - loss: 64.5234 - mae: 65.0234 - val_loss: 87.8273 - val_mae: 88.3273\n",
            "Epoch 56/200\n",
            "1/1 [==============================] - 0s 35ms/step - loss: 57.0086 - mae: 57.5086 - val_loss: 87.7924 - val_mae: 88.2924\n",
            "Epoch 57/200\n",
            "1/1 [==============================] - 0s 35ms/step - loss: 50.6706 - mae: 51.1706 - val_loss: 87.7209 - val_mae: 88.2209\n",
            "Epoch 58/200\n",
            "1/1 [==============================] - 0s 33ms/step - loss: 45.7697 - mae: 46.2651 - val_loss: 88.4531 - val_mae: 88.9531\n",
            "Epoch 59/200\n",
            "1/1 [==============================] - 0s 33ms/step - loss: 58.9498 - mae: 59.4498 - val_loss: 90.4445 - val_mae: 90.9445\n",
            "Epoch 60/200\n",
            "1/1 [==============================] - 0s 33ms/step - loss: 56.3784 - mae: 56.8784 - val_loss: 92.7480 - val_mae: 93.2480\n",
            "Epoch 61/200\n",
            "1/1 [==============================] - 0s 31ms/step - loss: 62.6676 - mae: 63.1676 - val_loss: 94.5615 - val_mae: 95.0615\n",
            "Epoch 62/200\n",
            "1/1 [==============================] - 0s 40ms/step - loss: 53.4528 - mae: 53.9528 - val_loss: 95.2001 - val_mae: 95.7001\n",
            "Epoch 63/200\n",
            "1/1 [==============================] - 0s 36ms/step - loss: 48.4568 - mae: 48.9568 - val_loss: 95.6500 - val_mae: 96.1500\n",
            "Epoch 64/200\n",
            "1/1 [==============================] - 0s 42ms/step - loss: 47.9227 - mae: 48.4141 - val_loss: 95.0634 - val_mae: 95.5634\n",
            "Epoch 65/200\n",
            "1/1 [==============================] - 0s 34ms/step - loss: 59.8944 - mae: 60.3944 - val_loss: 94.2726 - val_mae: 94.7726\n",
            "Epoch 66/200\n",
            "1/1 [==============================] - 0s 34ms/step - loss: 67.1451 - mae: 67.6451 - val_loss: 93.0842 - val_mae: 93.5842\n",
            "Epoch 67/200\n",
            "1/1 [==============================] - 0s 34ms/step - loss: 54.7958 - mae: 55.2958 - val_loss: 91.2855 - val_mae: 91.7855\n",
            "Epoch 68/200\n",
            "1/1 [==============================] - 0s 35ms/step - loss: 50.1636 - mae: 50.6472 - val_loss: 89.0179 - val_mae: 89.5179\n",
            "Epoch 69/200\n",
            "1/1 [==============================] - 0s 37ms/step - loss: 47.1586 - mae: 47.6586 - val_loss: 87.4769 - val_mae: 87.9769\n",
            "Epoch 70/200\n",
            "1/1 [==============================] - 0s 50ms/step - loss: 57.9397 - mae: 58.4397 - val_loss: 87.6098 - val_mae: 88.1098\n",
            "Epoch 71/200\n",
            "1/1 [==============================] - 0s 40ms/step - loss: 53.0224 - mae: 53.5224 - val_loss: 87.7276 - val_mae: 88.2276\n",
            "Epoch 72/200\n",
            "1/1 [==============================] - 0s 43ms/step - loss: 44.7260 - mae: 45.2259 - val_loss: 87.8074 - val_mae: 88.3074\n",
            "Epoch 73/200\n",
            "1/1 [==============================] - 0s 35ms/step - loss: 59.2082 - mae: 59.6997 - val_loss: 87.8492 - val_mae: 88.3492\n",
            "Epoch 74/200\n",
            "1/1 [==============================] - 0s 34ms/step - loss: 45.2366 - mae: 45.7366 - val_loss: 87.9047 - val_mae: 88.4047\n",
            "Epoch 75/200\n",
            "1/1 [==============================] - 0s 35ms/step - loss: 55.2348 - mae: 55.7348 - val_loss: 87.9074 - val_mae: 88.4074\n",
            "Epoch 76/200\n",
            "1/1 [==============================] - 0s 36ms/step - loss: 52.6078 - mae: 53.1078 - val_loss: 87.8611 - val_mae: 88.3611\n",
            "Epoch 77/200\n",
            "1/1 [==============================] - 0s 37ms/step - loss: 44.9048 - mae: 45.4048 - val_loss: 87.7188 - val_mae: 88.2188\n",
            "Epoch 78/200\n",
            "1/1 [==============================] - 0s 36ms/step - loss: 53.2699 - mae: 53.7699 - val_loss: 87.5923 - val_mae: 88.0923\n",
            "Epoch 79/200\n",
            "1/1 [==============================] - 0s 36ms/step - loss: 61.0424 - mae: 61.5424 - val_loss: 88.5049 - val_mae: 89.0049\n",
            "Epoch 80/200\n",
            "1/1 [==============================] - 0s 33ms/step - loss: 42.8965 - mae: 43.3965 - val_loss: 89.2509 - val_mae: 89.7509\n",
            "Epoch 81/200\n",
            "1/1 [==============================] - 0s 38ms/step - loss: 44.6724 - mae: 45.1724 - val_loss: 88.7769 - val_mae: 89.2769\n",
            "Epoch 82/200\n",
            "1/1 [==============================] - 0s 39ms/step - loss: 58.9680 - mae: 59.4680 - val_loss: 89.0785 - val_mae: 89.5785\n",
            "Epoch 83/200\n",
            "1/1 [==============================] - 0s 40ms/step - loss: 58.5817 - mae: 59.0807 - val_loss: 89.3155 - val_mae: 89.8155\n",
            "Epoch 84/200\n",
            "1/1 [==============================] - 0s 44ms/step - loss: 48.4484 - mae: 48.9484 - val_loss: 88.4806 - val_mae: 88.9806\n",
            "Epoch 85/200\n",
            "1/1 [==============================] - 0s 36ms/step - loss: 56.5780 - mae: 57.0780 - val_loss: 87.9308 - val_mae: 88.4308\n",
            "Epoch 86/200\n",
            "1/1 [==============================] - 0s 35ms/step - loss: 52.7979 - mae: 53.2979 - val_loss: 88.0852 - val_mae: 88.5852\n",
            "Epoch 87/200\n",
            "1/1 [==============================] - 0s 52ms/step - loss: 47.2847 - mae: 47.7810 - val_loss: 88.2220 - val_mae: 88.7220\n",
            "Epoch 88/200\n",
            "1/1 [==============================] - 0s 33ms/step - loss: 54.9513 - mae: 55.4513 - val_loss: 88.2772 - val_mae: 88.7772\n",
            "Epoch 89/200\n",
            "1/1 [==============================] - 0s 34ms/step - loss: 56.0503 - mae: 56.5256 - val_loss: 88.3445 - val_mae: 88.8445\n",
            "Epoch 90/200\n",
            "1/1 [==============================] - 0s 39ms/step - loss: 56.6239 - mae: 57.1239 - val_loss: 88.4002 - val_mae: 88.9002\n",
            "Epoch 91/200\n",
            "1/1 [==============================] - 0s 44ms/step - loss: 43.2042 - mae: 43.6881 - val_loss: 88.4527 - val_mae: 88.9527\n",
            "Epoch 92/200\n",
            "1/1 [==============================] - 0s 38ms/step - loss: 68.5990 - mae: 69.0990 - val_loss: 88.4805 - val_mae: 88.9805\n",
            "Epoch 93/200\n",
            "1/1 [==============================] - 0s 34ms/step - loss: 44.0042 - mae: 44.5039 - val_loss: 88.4958 - val_mae: 88.9958\n",
            "Epoch 94/200\n",
            "1/1 [==============================] - 0s 35ms/step - loss: 51.1433 - mae: 51.6433 - val_loss: 88.4485 - val_mae: 88.9485\n",
            "Epoch 95/200\n",
            "1/1 [==============================] - 0s 46ms/step - loss: 43.4851 - mae: 43.9851 - val_loss: 88.4310 - val_mae: 88.9310\n",
            "Epoch 96/200\n",
            "1/1 [==============================] - 0s 34ms/step - loss: 73.5878 - mae: 74.0878 - val_loss: 88.3547 - val_mae: 88.8547\n",
            "Epoch 97/200\n",
            "1/1 [==============================] - 0s 36ms/step - loss: 52.4588 - mae: 52.9588 - val_loss: 88.2721 - val_mae: 88.7721\n",
            "Epoch 98/200\n",
            "1/1 [==============================] - 0s 45ms/step - loss: 55.2177 - mae: 55.7177 - val_loss: 88.2712 - val_mae: 88.7712\n",
            "Epoch 99/200\n",
            "1/1 [==============================] - 0s 33ms/step - loss: 55.6335 - mae: 56.1321 - val_loss: 88.2046 - val_mae: 88.7046\n",
            "Epoch 100/200\n",
            "1/1 [==============================] - 0s 33ms/step - loss: 51.0068 - mae: 51.5068 - val_loss: 88.1024 - val_mae: 88.6024\n",
            "Epoch 101/200\n",
            "1/1 [==============================] - 0s 38ms/step - loss: 43.8817 - mae: 44.3561 - val_loss: 88.0321 - val_mae: 88.5321\n",
            "Epoch 102/200\n",
            "1/1 [==============================] - 0s 35ms/step - loss: 51.9037 - mae: 52.4037 - val_loss: 87.9831 - val_mae: 88.4831\n",
            "Epoch 103/200\n",
            "1/1 [==============================] - 0s 38ms/step - loss: 46.0934 - mae: 46.5934 - val_loss: 87.9329 - val_mae: 88.4329\n",
            "Epoch 104/200\n",
            "1/1 [==============================] - 0s 37ms/step - loss: 56.3954 - mae: 56.8954 - val_loss: 87.9269 - val_mae: 88.4269\n",
            "Epoch 105/200\n",
            "1/1 [==============================] - 0s 42ms/step - loss: 49.5221 - mae: 50.0221 - val_loss: 87.9396 - val_mae: 88.4396\n",
            "Epoch 106/200\n",
            "1/1 [==============================] - 0s 37ms/step - loss: 51.6085 - mae: 52.1079 - val_loss: 88.0032 - val_mae: 88.5032\n",
            "Epoch 107/200\n",
            "1/1 [==============================] - 0s 37ms/step - loss: 55.9625 - mae: 56.4625 - val_loss: 88.1024 - val_mae: 88.6024\n",
            "Epoch 108/200\n",
            "1/1 [==============================] - 0s 36ms/step - loss: 50.2011 - mae: 50.7011 - val_loss: 88.2275 - val_mae: 88.7275\n",
            "Epoch 109/200\n",
            "1/1 [==============================] - 0s 39ms/step - loss: 45.9173 - mae: 46.4173 - val_loss: 88.3655 - val_mae: 88.8655\n",
            "Epoch 110/200\n",
            "1/1 [==============================] - 0s 39ms/step - loss: 56.0033 - mae: 56.5033 - val_loss: 88.4282 - val_mae: 88.9282\n",
            "Epoch 111/200\n",
            "1/1 [==============================] - 0s 36ms/step - loss: 52.3953 - mae: 52.8953 - val_loss: 88.5196 - val_mae: 89.0196\n",
            "Epoch 112/200\n",
            "1/1 [==============================] - 0s 42ms/step - loss: 58.1131 - mae: 58.6131 - val_loss: 88.5719 - val_mae: 89.0719\n",
            "Epoch 113/200\n",
            "1/1 [==============================] - 0s 38ms/step - loss: 47.5244 - mae: 48.0244 - val_loss: 88.6318 - val_mae: 89.1318\n",
            "Epoch 114/200\n",
            "1/1 [==============================] - 0s 36ms/step - loss: 53.8387 - mae: 54.3387 - val_loss: 88.6333 - val_mae: 89.1333\n",
            "Epoch 115/200\n",
            "1/1 [==============================] - 0s 42ms/step - loss: 54.7664 - mae: 55.2643 - val_loss: 88.4706 - val_mae: 88.9706\n",
            "Epoch 116/200\n",
            "1/1 [==============================] - 0s 38ms/step - loss: 50.0612 - mae: 50.5612 - val_loss: 88.3171 - val_mae: 88.8171\n",
            "Epoch 117/200\n",
            "1/1 [==============================] - 0s 39ms/step - loss: 50.2115 - mae: 50.7115 - val_loss: 88.3366 - val_mae: 88.8365\n",
            "Epoch 118/200\n",
            "1/1 [==============================] - 0s 50ms/step - loss: 45.0471 - mae: 45.5471 - val_loss: 88.3761 - val_mae: 88.8761\n",
            "Epoch 119/200\n",
            "1/1 [==============================] - 0s 39ms/step - loss: 43.3177 - mae: 43.8166 - val_loss: 88.4210 - val_mae: 88.9210\n",
            "Epoch 120/200\n",
            "1/1 [==============================] - 0s 34ms/step - loss: 51.0374 - mae: 51.5374 - val_loss: 88.4601 - val_mae: 88.9601\n",
            "Epoch 121/200\n",
            "1/1 [==============================] - 0s 34ms/step - loss: 49.4551 - mae: 49.9551 - val_loss: 88.5499 - val_mae: 89.0499\n",
            "Epoch 122/200\n",
            "1/1 [==============================] - 0s 34ms/step - loss: 45.7642 - mae: 46.2642 - val_loss: 88.6222 - val_mae: 89.1222\n",
            "Epoch 123/200\n",
            "1/1 [==============================] - 0s 37ms/step - loss: 42.8531 - mae: 43.3531 - val_loss: 88.6984 - val_mae: 89.1984\n",
            "Epoch 124/200\n",
            "1/1 [==============================] - 0s 36ms/step - loss: 50.5352 - mae: 51.0352 - val_loss: 88.7884 - val_mae: 89.2884\n",
            "Epoch 125/200\n",
            "1/1 [==============================] - 0s 42ms/step - loss: 63.1036 - mae: 63.6036 - val_loss: 88.8256 - val_mae: 89.3256\n",
            "Epoch 126/200\n",
            "1/1 [==============================] - 0s 37ms/step - loss: 57.2376 - mae: 57.7376 - val_loss: 88.7461 - val_mae: 89.2461\n",
            "Epoch 127/200\n",
            "1/1 [==============================] - 0s 34ms/step - loss: 47.8622 - mae: 48.3622 - val_loss: 88.6546 - val_mae: 89.1546\n",
            "Epoch 128/200\n",
            "1/1 [==============================] - 0s 38ms/step - loss: 49.4936 - mae: 49.9819 - val_loss: 88.5236 - val_mae: 89.0236\n",
            "Epoch 129/200\n",
            "1/1 [==============================] - 0s 38ms/step - loss: 45.3278 - mae: 45.8278 - val_loss: 90.7416 - val_mae: 91.2416\n",
            "Epoch 130/200\n",
            "1/1 [==============================] - 0s 34ms/step - loss: 45.2259 - mae: 45.7259 - val_loss: 93.4590 - val_mae: 93.9590\n",
            "Epoch 131/200\n",
            "1/1 [==============================] - 0s 36ms/step - loss: 48.3400 - mae: 48.8397 - val_loss: 95.7589 - val_mae: 96.2534\n",
            "Epoch 132/200\n",
            "1/1 [==============================] - 0s 41ms/step - loss: 52.9603 - mae: 53.4603 - val_loss: 99.1435 - val_mae: 99.6435\n",
            "Epoch 133/200\n",
            "1/1 [==============================] - 0s 36ms/step - loss: 60.5791 - mae: 61.0791 - val_loss: 98.8979 - val_mae: 99.3979\n",
            "Epoch 134/200\n",
            "1/1 [==============================] - 0s 40ms/step - loss: 59.6764 - mae: 60.1764 - val_loss: 96.2763 - val_mae: 96.7763\n",
            "Epoch 135/200\n",
            "1/1 [==============================] - 0s 34ms/step - loss: 48.0535 - mae: 48.5535 - val_loss: 94.5210 - val_mae: 95.0210\n",
            "Epoch 136/200\n",
            "1/1 [==============================] - 0s 38ms/step - loss: 52.6187 - mae: 53.1187 - val_loss: 91.7445 - val_mae: 92.2445\n",
            "Epoch 137/200\n",
            "1/1 [==============================] - 0s 42ms/step - loss: 46.2033 - mae: 46.7033 - val_loss: 88.9741 - val_mae: 89.4184\n",
            "Epoch 138/200\n",
            "1/1 [==============================] - 0s 35ms/step - loss: 48.9769 - mae: 49.4769 - val_loss: 88.8701 - val_mae: 89.3701\n",
            "Epoch 139/200\n",
            "1/1 [==============================] - 0s 40ms/step - loss: 49.8487 - mae: 50.3487 - val_loss: 88.8127 - val_mae: 89.3127\n",
            "Epoch 140/200\n",
            "1/1 [==============================] - 0s 35ms/step - loss: 47.6299 - mae: 48.1209 - val_loss: 88.8488 - val_mae: 89.3488\n",
            "Epoch 141/200\n",
            "1/1 [==============================] - 0s 40ms/step - loss: 48.4526 - mae: 48.9526 - val_loss: 88.8537 - val_mae: 89.3537\n",
            "Epoch 142/200\n",
            "1/1 [==============================] - 0s 40ms/step - loss: 50.7549 - mae: 51.2549 - val_loss: 88.7800 - val_mae: 89.2800\n",
            "Epoch 143/200\n",
            "1/1 [==============================] - 0s 34ms/step - loss: 54.3199 - mae: 54.8193 - val_loss: 88.7008 - val_mae: 89.2008\n",
            "Epoch 144/200\n",
            "1/1 [==============================] - 0s 36ms/step - loss: 46.9850 - mae: 47.4818 - val_loss: 88.5510 - val_mae: 89.0510\n",
            "Epoch 145/200\n",
            "1/1 [==============================] - 0s 40ms/step - loss: 60.2310 - mae: 60.7310 - val_loss: 88.3095 - val_mae: 88.8095\n",
            "Epoch 146/200\n",
            "1/1 [==============================] - 0s 38ms/step - loss: 46.4030 - mae: 46.9030 - val_loss: 88.0972 - val_mae: 88.5972\n",
            "Epoch 147/200\n",
            "1/1 [==============================] - 0s 35ms/step - loss: 54.3559 - mae: 54.8559 - val_loss: 87.8092 - val_mae: 88.3092\n",
            "Epoch 148/200\n",
            "1/1 [==============================] - 0s 35ms/step - loss: 59.8123 - mae: 60.3115 - val_loss: 88.3108 - val_mae: 88.8108\n",
            "Epoch 149/200\n",
            "1/1 [==============================] - 0s 37ms/step - loss: 37.4756 - mae: 37.9670 - val_loss: 90.1634 - val_mae: 90.6634\n",
            "Epoch 150/200\n",
            "1/1 [==============================] - 0s 43ms/step - loss: 54.8278 - mae: 55.3149 - val_loss: 91.1762 - val_mae: 91.6762\n",
            "Epoch 151/200\n",
            "1/1 [==============================] - 0s 37ms/step - loss: 50.6406 - mae: 51.1406 - val_loss: 91.6157 - val_mae: 92.0614\n",
            "Epoch 152/200\n",
            "1/1 [==============================] - 0s 36ms/step - loss: 53.9531 - mae: 54.4531 - val_loss: 90.9706 - val_mae: 91.4699\n",
            "Epoch 153/200\n",
            "1/1 [==============================] - 0s 44ms/step - loss: 50.9612 - mae: 51.4579 - val_loss: 90.0085 - val_mae: 90.5085\n",
            "Epoch 154/200\n",
            "1/1 [==============================] - 0s 35ms/step - loss: 47.4308 - mae: 47.9308 - val_loss: 87.9229 - val_mae: 88.4229\n",
            "Epoch 155/200\n",
            "1/1 [==============================] - 0s 34ms/step - loss: 44.1203 - mae: 44.6203 - val_loss: 87.3205 - val_mae: 87.8205\n",
            "Epoch 156/200\n",
            "1/1 [==============================] - 0s 36ms/step - loss: 50.1975 - mae: 50.6975 - val_loss: 87.6764 - val_mae: 88.1764\n",
            "Epoch 157/200\n",
            "1/1 [==============================] - 0s 33ms/step - loss: 55.7165 - mae: 56.2165 - val_loss: 88.0226 - val_mae: 88.5226\n",
            "Epoch 158/200\n",
            "1/1 [==============================] - 0s 32ms/step - loss: 46.9031 - mae: 47.4031 - val_loss: 88.2938 - val_mae: 88.7938\n",
            "Epoch 159/200\n",
            "1/1 [==============================] - 0s 43ms/step - loss: 38.9075 - mae: 39.3990 - val_loss: 88.6917 - val_mae: 89.1917\n",
            "Epoch 160/200\n",
            "1/1 [==============================] - 0s 37ms/step - loss: 54.5015 - mae: 55.0015 - val_loss: 89.0262 - val_mae: 89.5262\n",
            "Epoch 161/200\n",
            "1/1 [==============================] - 0s 34ms/step - loss: 52.7386 - mae: 53.2386 - val_loss: 89.1157 - val_mae: 89.6157\n",
            "Epoch 162/200\n",
            "1/1 [==============================] - 0s 35ms/step - loss: 49.9381 - mae: 50.4220 - val_loss: 89.0323 - val_mae: 89.5323\n",
            "Epoch 163/200\n",
            "1/1 [==============================] - 0s 38ms/step - loss: 43.5104 - mae: 44.0057 - val_loss: 88.7425 - val_mae: 89.2425\n",
            "Epoch 164/200\n",
            "1/1 [==============================] - 0s 42ms/step - loss: 58.4222 - mae: 58.9222 - val_loss: 88.3828 - val_mae: 88.8828\n",
            "Epoch 165/200\n",
            "1/1 [==============================] - 0s 36ms/step - loss: 52.4456 - mae: 52.9456 - val_loss: 88.0885 - val_mae: 88.5885\n",
            "Epoch 166/200\n",
            "1/1 [==============================] - 0s 37ms/step - loss: 47.4901 - mae: 47.9901 - val_loss: 87.7442 - val_mae: 88.2442\n",
            "Epoch 167/200\n",
            "1/1 [==============================] - 0s 35ms/step - loss: 58.6379 - mae: 59.1379 - val_loss: 87.3036 - val_mae: 87.8036\n",
            "Epoch 168/200\n",
            "1/1 [==============================] - ETA: 0s - loss: 40.1555 - mae: 40.6555INFO:tensorflow:Assets written to: model_experiments/model_1_dense/assets\n"
          ]
        },
        {
          "output_type": "stream",
          "name": "stderr",
          "text": [
            "INFO:tensorflow:Assets written to: model_experiments/model_1_dense/assets\n"
          ]
        },
        {
          "output_type": "stream",
          "name": "stdout",
          "text": [
            "\b\b\b\b\b\b\b\b\b\b\b\b\b\b\b\b\b\b\b\b\b\b\b\b\b\b\b\b\b\b\b\b\b\b\b\b\b\b\b\b\b\b\b\b\b\b\b\b\b\b\b\b\b\b\b\b\b\b\b\b\b\b\b\b\b\b\b\b\b\b\b\b\b\b\b\b\b\r1/1 [==============================] - 1s 852ms/step - loss: 40.1555 - mae: 40.6555 - val_loss: 86.9281 - val_mae: 87.4281\n",
            "Epoch 169/200\n",
            "1/1 [==============================] - ETA: 0s - loss: 52.5236 - mae: 53.0236INFO:tensorflow:Assets written to: model_experiments/model_1_dense/assets\n"
          ]
        },
        {
          "output_type": "stream",
          "name": "stderr",
          "text": [
            "INFO:tensorflow:Assets written to: model_experiments/model_1_dense/assets\n"
          ]
        },
        {
          "output_type": "stream",
          "name": "stdout",
          "text": [
            "\b\b\b\b\b\b\b\b\b\b\b\b\b\b\b\b\b\b\b\b\b\b\b\b\b\b\b\b\b\b\b\b\b\b\b\b\b\b\b\b\b\b\b\b\b\b\b\b\b\b\b\b\b\b\b\b\b\b\b\b\b\b\b\b\b\b\b\b\b\b\b\b\b\b\b\b\b\r1/1 [==============================] - 1s 884ms/step - loss: 52.5236 - mae: 53.0236 - val_loss: 86.5148 - val_mae: 87.0148\n",
            "Epoch 170/200\n",
            "1/1 [==============================] - ETA: 0s - loss: 54.3935 - mae: 54.8935INFO:tensorflow:Assets written to: model_experiments/model_1_dense/assets\n"
          ]
        },
        {
          "output_type": "stream",
          "name": "stderr",
          "text": [
            "INFO:tensorflow:Assets written to: model_experiments/model_1_dense/assets\n"
          ]
        },
        {
          "output_type": "stream",
          "name": "stdout",
          "text": [
            "\b\b\b\b\b\b\b\b\b\b\b\b\b\b\b\b\b\b\b\b\b\b\b\b\b\b\b\b\b\b\b\b\b\b\b\b\b\b\b\b\b\b\b\b\b\b\b\b\b\b\b\b\b\b\b\b\b\b\b\b\b\b\b\b\b\b\b\b\b\b\b\b\b\b\b\b\b\r1/1 [==============================] - 1s 859ms/step - loss: 54.3935 - mae: 54.8935 - val_loss: 86.0698 - val_mae: 86.5698\n",
            "Epoch 171/200\n",
            "1/1 [==============================] - ETA: 0s - loss: 53.9292 - mae: 54.4292INFO:tensorflow:Assets written to: model_experiments/model_1_dense/assets\n"
          ]
        },
        {
          "output_type": "stream",
          "name": "stderr",
          "text": [
            "INFO:tensorflow:Assets written to: model_experiments/model_1_dense/assets\n"
          ]
        },
        {
          "output_type": "stream",
          "name": "stdout",
          "text": [
            "\b\b\b\b\b\b\b\b\b\b\b\b\b\b\b\b\b\b\b\b\b\b\b\b\b\b\b\b\b\b\b\b\b\b\b\b\b\b\b\b\b\b\b\b\b\b\b\b\b\b\b\b\b\b\b\b\b\b\b\b\b\b\b\b\b\b\b\b\b\b\b\b\b\b\b\b\b\r1/1 [==============================] - 1s 874ms/step - loss: 53.9292 - mae: 54.4292 - val_loss: 85.8248 - val_mae: 86.2813\n",
            "Epoch 172/200\n",
            "1/1 [==============================] - 0s 40ms/step - loss: 47.0868 - mae: 47.5868 - val_loss: 86.6159 - val_mae: 87.1159\n",
            "Epoch 173/200\n",
            "1/1 [==============================] - 0s 33ms/step - loss: 34.0574 - mae: 34.5574 - val_loss: 86.5117 - val_mae: 87.0117\n",
            "Epoch 174/200\n",
            "1/1 [==============================] - ETA: 0s - loss: 54.1799 - mae: 54.6799INFO:tensorflow:Assets written to: model_experiments/model_1_dense/assets\n"
          ]
        },
        {
          "output_type": "stream",
          "name": "stderr",
          "text": [
            "INFO:tensorflow:Assets written to: model_experiments/model_1_dense/assets\n"
          ]
        },
        {
          "output_type": "stream",
          "name": "stdout",
          "text": [
            "\b\b\b\b\b\b\b\b\b\b\b\b\b\b\b\b\b\b\b\b\b\b\b\b\b\b\b\b\b\b\b\b\b\b\b\b\b\b\b\b\b\b\b\b\b\b\b\b\b\b\b\b\b\b\b\b\b\b\b\b\b\b\b\b\b\b\b\b\b\b\b\b\b\b\b\b\b\r1/1 [==============================] - 1s 859ms/step - loss: 54.1799 - mae: 54.6799 - val_loss: 85.6507 - val_mae: 86.1132\n",
            "Epoch 175/200\n",
            "1/1 [==============================] - ETA: 0s - loss: 45.1078 - mae: 45.6078INFO:tensorflow:Assets written to: model_experiments/model_1_dense/assets\n"
          ]
        },
        {
          "output_type": "stream",
          "name": "stderr",
          "text": [
            "INFO:tensorflow:Assets written to: model_experiments/model_1_dense/assets\n"
          ]
        },
        {
          "output_type": "stream",
          "name": "stdout",
          "text": [
            "\b\b\b\b\b\b\b\b\b\b\b\b\b\b\b\b\b\b\b\b\b\b\b\b\b\b\b\b\b\b\b\b\b\b\b\b\b\b\b\b\b\b\b\b\b\b\b\b\b\b\b\b\b\b\b\b\b\b\b\b\b\b\b\b\b\b\b\b\b\b\b\b\b\b\b\b\b\r1/1 [==============================] - 1s 868ms/step - loss: 45.1078 - mae: 45.6078 - val_loss: 85.4637 - val_mae: 85.9637\n",
            "Epoch 176/200\n",
            "1/1 [==============================] - 0s 35ms/step - loss: 49.4339 - mae: 49.9339 - val_loss: 85.4695 - val_mae: 85.9695\n",
            "Epoch 177/200\n",
            "1/1 [==============================] - 0s 33ms/step - loss: 36.6733 - mae: 37.1733 - val_loss: 85.5040 - val_mae: 86.0040\n",
            "Epoch 178/200\n",
            "1/1 [==============================] - 0s 35ms/step - loss: 37.4382 - mae: 37.9382 - val_loss: 85.4846 - val_mae: 85.9846\n",
            "Epoch 179/200\n",
            "1/1 [==============================] - ETA: 0s - loss: 51.5868 - mae: 52.0868INFO:tensorflow:Assets written to: model_experiments/model_1_dense/assets\n"
          ]
        },
        {
          "output_type": "stream",
          "name": "stderr",
          "text": [
            "INFO:tensorflow:Assets written to: model_experiments/model_1_dense/assets\n"
          ]
        },
        {
          "output_type": "stream",
          "name": "stdout",
          "text": [
            "\b\b\b\b\b\b\b\b\b\b\b\b\b\b\b\b\b\b\b\b\b\b\b\b\b\b\b\b\b\b\b\b\b\b\b\b\b\b\b\b\b\b\b\b\b\b\b\b\b\b\b\b\b\b\b\b\b\b\b\b\b\b\b\b\b\b\b\b\b\b\b\b\b\b\b\b\b\r1/1 [==============================] - 1s 851ms/step - loss: 51.5868 - mae: 52.0868 - val_loss: 85.4407 - val_mae: 85.9407\n",
            "Epoch 180/200\n",
            "1/1 [==============================] - 0s 39ms/step - loss: 49.0719 - mae: 49.5719 - val_loss: 85.4515 - val_mae: 85.9515\n",
            "Epoch 181/200\n",
            "1/1 [==============================] - 0s 42ms/step - loss: 51.4036 - mae: 51.8864 - val_loss: 85.5726 - val_mae: 86.0726\n",
            "Epoch 182/200\n",
            "1/1 [==============================] - 0s 34ms/step - loss: 40.8946 - mae: 41.3825 - val_loss: 85.6417 - val_mae: 86.1417\n",
            "Epoch 183/200\n",
            "1/1 [==============================] - 0s 37ms/step - loss: 46.5195 - mae: 47.0195 - val_loss: 85.7057 - val_mae: 86.2057\n",
            "Epoch 184/200\n",
            "1/1 [==============================] - 0s 38ms/step - loss: 42.7723 - mae: 43.2723 - val_loss: 85.9092 - val_mae: 86.4092\n",
            "Epoch 185/200\n",
            "1/1 [==============================] - 0s 38ms/step - loss: 49.6023 - mae: 50.1023 - val_loss: 86.1465 - val_mae: 86.6465\n",
            "Epoch 186/200\n",
            "1/1 [==============================] - 0s 36ms/step - loss: 54.4692 - mae: 54.9692 - val_loss: 86.2454 - val_mae: 86.7454\n",
            "Epoch 187/200\n",
            "1/1 [==============================] - 0s 34ms/step - loss: 55.2754 - mae: 55.7754 - val_loss: 86.5095 - val_mae: 87.0095\n",
            "Epoch 188/200\n",
            "1/1 [==============================] - 0s 39ms/step - loss: 52.2388 - mae: 52.7388 - val_loss: 86.7617 - val_mae: 87.2617\n",
            "Epoch 189/200\n",
            "1/1 [==============================] - 0s 36ms/step - loss: 47.6427 - mae: 48.1427 - val_loss: 86.8412 - val_mae: 87.3412\n",
            "Epoch 190/200\n",
            "1/1 [==============================] - 0s 35ms/step - loss: 56.4986 - mae: 56.9986 - val_loss: 86.9435 - val_mae: 87.4435\n",
            "Epoch 191/200\n",
            "1/1 [==============================] - 0s 41ms/step - loss: 48.3972 - mae: 48.8907 - val_loss: 86.8696 - val_mae: 87.3696\n",
            "Epoch 192/200\n",
            "1/1 [==============================] - 0s 43ms/step - loss: 40.3115 - mae: 40.8115 - val_loss: 86.9538 - val_mae: 87.4538\n",
            "Epoch 193/200\n",
            "1/1 [==============================] - 0s 35ms/step - loss: 49.8212 - mae: 50.3212 - val_loss: 86.8596 - val_mae: 87.3596\n",
            "Epoch 194/200\n",
            "1/1 [==============================] - 0s 37ms/step - loss: 49.2636 - mae: 49.7636 - val_loss: 86.5995 - val_mae: 87.0995\n",
            "Epoch 195/200\n",
            "1/1 [==============================] - 0s 35ms/step - loss: 39.0503 - mae: 39.5491 - val_loss: 86.3770 - val_mae: 86.8770\n",
            "Epoch 196/200\n",
            "1/1 [==============================] - 0s 41ms/step - loss: 40.9182 - mae: 41.4182 - val_loss: 87.2776 - val_mae: 87.7776\n",
            "Epoch 197/200\n",
            "1/1 [==============================] - 0s 36ms/step - loss: 41.1258 - mae: 41.6258 - val_loss: 87.9281 - val_mae: 88.4281\n",
            "Epoch 198/200\n",
            "1/1 [==============================] - 0s 37ms/step - loss: 50.2088 - mae: 50.6884 - val_loss: 88.5890 - val_mae: 89.0890\n",
            "Epoch 199/200\n",
            "1/1 [==============================] - 0s 40ms/step - loss: 49.9450 - mae: 50.4426 - val_loss: 88.3750 - val_mae: 88.8750\n",
            "Epoch 200/200\n",
            "1/1 [==============================] - 0s 34ms/step - loss: 51.0363 - mae: 51.5363 - val_loss: 87.6249 - val_mae: 88.1249\n"
          ]
        },
        {
          "output_type": "execute_result",
          "data": {
            "text/plain": [
              "<keras.callbacks.History at 0x7f1e6f927910>"
            ]
          },
          "metadata": {},
          "execution_count": 118
        }
      ]
    },
    {
      "cell_type": "code",
      "source": [
        "# Evaluate model 2 preds\n",
        "model_2.evaluate(test_windows, test_labels)"
      ],
      "metadata": {
        "colab": {
          "base_uri": "https://localhost:8080/"
        },
        "id": "onV-HajL_egy",
        "outputId": "22c31a2e-eeac-427b-a639-754ddfd0fed2"
      },
      "execution_count": null,
      "outputs": [
        {
          "output_type": "stream",
          "name": "stdout",
          "text": [
            "1/1 [==============================] - 0s 21ms/step - loss: 87.6249 - mae: 88.1249\n"
          ]
        },
        {
          "output_type": "execute_result",
          "data": {
            "text/plain": [
              "[87.62493896484375, 88.12493896484375]"
            ]
          },
          "metadata": {},
          "execution_count": 119
        }
      ]
    },
    {
      "cell_type": "code",
      "source": [
        "# Get forecast predictions\n",
        "model_2_preds = make_preds(model_2,\n",
        "                           input_data=test_windows)"
      ],
      "metadata": {
        "id": "Duf4NZha_k_A"
      },
      "execution_count": null,
      "outputs": []
    },
    {
      "cell_type": "code",
      "source": [
        "def evaluate_preds(y_true, y_pred):\n",
        "  # Make sure float32 (for metric calculations)\n",
        "  y_true = tf.cast(y_true, dtype=tf.float32)\n",
        "  y_pred = tf.cast(y_pred, dtype=tf.float32)\n",
        "\n",
        "  # Calculate various metrics\n",
        "  mae = tf.keras.metrics.mean_absolute_error(y_true, y_pred)\n",
        "  mse = tf.keras.metrics.mean_squared_error(y_true, y_pred) # puts and emphasis on outliers (all errors get squared)\n",
        "  rmse = tf.sqrt(mse)\n",
        "  mape = tf.keras.metrics.mean_absolute_percentage_error(y_true, y_pred)\n",
        "  mase = mean_absolute_scaled_error(y_true, y_pred)\n",
        "  \n",
        "  return {\"mae\": mae.numpy(),\n",
        "          \"mse\": mse.numpy(),\n",
        "          \"rmse\": rmse.numpy(),\n",
        "          \"mape\": mape.numpy(),\n",
        "          \"mase\": mase.numpy()}"
      ],
      "metadata": {
        "id": "KS3IOaVOAPjX"
      },
      "execution_count": null,
      "outputs": []
    },
    {
      "cell_type": "code",
      "source": [
        "def mean_absolute_scaled_error(y_true, y_pred):\n",
        "  \"\"\"\n",
        "  Implement MASE (assuming no seasonality of data).\n",
        "  \"\"\"\n",
        "  mae = tf.reduce_mean(tf.abs(y_true - y_pred))\n",
        "\n",
        "  # Find MAE of naive forecast (no seasonality)\n",
        "  mae_naive_no_season = tf.reduce_mean(tf.abs(y_true[1:] - y_true[:-1])) # our seasonality is 1 day (hence the shifting of 1 day)\n",
        "\n",
        "  return mae / mae_naive_no_season"
      ],
      "metadata": {
        "id": "dqbhsICmAZAl"
      },
      "execution_count": null,
      "outputs": []
    },
    {
      "cell_type": "code",
      "source": [
        "# Evaluate results for model 2 predictions\n",
        "model_2_results = evaluate_preds(y_true=tf.squeeze(test_labels), # remove 1 dimension of test labels\n",
        "                                 y_pred=model_2_preds)\n",
        "model_2_results"
      ],
      "metadata": {
        "colab": {
          "base_uri": "https://localhost:8080/"
        },
        "id": "ely21nwb_nzx",
        "outputId": "f01b0488-10c6-4b57-e07d-d83657500b5c"
      },
      "execution_count": null,
      "outputs": [
        {
          "output_type": "execute_result",
          "data": {
            "text/plain": [
              "{'mae': 88.12494,\n",
              " 'mape': 14.600102,\n",
              " 'mase': 0.5369543,\n",
              " 'mse': 13463.837,\n",
              " 'rmse': 116.033775}"
            ]
          },
          "metadata": {},
          "execution_count": 123
        }
      ]
    },
    {
      "cell_type": "code",
      "source": [
        "INTO_FUTURE = 1"
      ],
      "metadata": {
        "id": "I09s0A53AQdN"
      },
      "execution_count": null,
      "outputs": []
    },
    {
      "cell_type": "code",
      "source": [
        "# 1. Create function to make predictions into the future\n",
        "def make_future_forecast(values, model, into_future, window_size=WINDOW_SIZE) -> list:\n",
        "  \"\"\"\n",
        "  Makes future forecasts into_future steps after values ends.\n",
        "\n",
        "  Returns future forecasts as list of floats.\n",
        "  \"\"\"\n",
        "  # 2. Make an empty list for future forecasts/prepare data to forecast on\n",
        "  future_forecast = []\n",
        "  last_window = values[-WINDOW_SIZE:] # only want preds from the last window (this will get updated)\n",
        "\n",
        "  # 3. Make INTO_FUTURE number of predictions, altering the data which gets predicted on each time \n",
        "  for _ in range(into_future):\n",
        "    \n",
        "    # Predict on last window then append it again, again, again (model starts to make forecasts on its own forecasts)\n",
        "    future_pred = model.predict(tf.expand_dims(last_window, axis=0))\n",
        "    print(f\"Predicting on: \\n {last_window} -> Prediction: {tf.squeeze(future_pred).numpy()}\\n\")\n",
        "    \n",
        "    # Append predictions to future_forecast\n",
        "    future_forecast.append(tf.squeeze(future_pred).numpy())\n",
        "    # print(future_forecast)\n",
        "\n",
        "    # Update last window with new pred and get WINDOW_SIZE most recent preds (model was trained on WINDOW_SIZE windows)\n",
        "    last_window = np.append(last_window, future_pred)[-WINDOW_SIZE:]\n",
        "  \n",
        "  return future_forecast"
      ],
      "metadata": {
        "id": "4QpM3ww9Aqpq"
      },
      "execution_count": null,
      "outputs": []
    },
    {
      "cell_type": "code",
      "source": [
        "y_all = df[\"Sales\"].to_numpy()"
      ],
      "metadata": {
        "id": "tAQd82_xBQVx"
      },
      "execution_count": null,
      "outputs": []
    },
    {
      "cell_type": "code",
      "source": [
        "WINDOW_SIZE"
      ],
      "metadata": {
        "colab": {
          "base_uri": "https://localhost:8080/"
        },
        "id": "FtDK7oxLHZkp",
        "outputId": "f1ec0439-f795-48cd-a6c4-d7436c5feade"
      },
      "execution_count": null,
      "outputs": [
        {
          "output_type": "execute_result",
          "data": {
            "text/plain": [
              "7"
            ]
          },
          "metadata": {},
          "execution_count": 115
        }
      ]
    },
    {
      "cell_type": "code",
      "source": [
        "future_forecast = make_future_forecast(values=y_all,\n",
        "                                       model=model_2,\n",
        "                                       into_future=INTO_FUTURE,\n",
        "                                       window_size=30)"
      ],
      "metadata": {
        "colab": {
          "base_uri": "https://localhost:8080/"
        },
        "id": "8R-gRCiFA3r2",
        "outputId": "d523ef9f-65d1-4f43-cc77-f93e009abb71"
      },
      "execution_count": null,
      "outputs": [
        {
          "output_type": "stream",
          "name": "stdout",
          "text": [
            "Predicting on: \n",
            " [437.4 575.5 407.6 682.  475.3 581.3 646.9] -> Prediction: 684.1985473632812\n",
            "\n"
          ]
        }
      ]
    },
    {
      "cell_type": "code",
      "source": [
        "model_2.save('sales.h5')"
      ],
      "metadata": {
        "id": "KHYeTXN6BEwa"
      },
      "execution_count": null,
      "outputs": []
    },
    {
      "cell_type": "code",
      "source": [
        ""
      ],
      "metadata": {
        "id": "AbV9hPtYN2Re"
      },
      "execution_count": null,
      "outputs": []
    }
  ]
}